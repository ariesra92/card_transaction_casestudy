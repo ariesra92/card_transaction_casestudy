{
 "cells": [
  {
   "cell_type": "markdown",
   "metadata": {},
   "source": [
    "\n",
    "# Data Science Assignment - Card Transaction Data\n",
    "##### Esra Arı\n",
    "\n",
    "\n",
    "## Table of Contents\n",
    "<ul>\n",
    "<li><a href=\"#intro\">Introduction</a></li>\n",
    "<li><a href=\"#wrangling\">Data Wrangling</a></li>\n",
    "<li><a href=\"#datacleaning\">Data Cleaning</a></li>\n",
    "<li><a href=\"#exporatory\">Exploratory Data Analysis</a></li>\n",
    "<li><a href=\"#segment\">Customer Segmentation</a></li>\n",
    "<li><a href=\"#predict\">Predictive Modeling</a></li>\n",
    "\n",
    "</ul>"
   ]
  },
  {
   "cell_type": "markdown",
   "metadata": {},
   "source": [
    "<a id='intro'></a>\n",
    "## Introduction\n",
    "\n",
    "This assignment is based on a dataset of credit card transactions that you can download from\n",
    "Link to download the dataset\n",
    "\n",
    "Each row in the dataset refers to one credit card purchase by a cardholder. Each cardholder\n",
    "belongs to an agency. Each transaction has information about the amount, date, merchant and\n",
    "merchant category, as well as a description of the expense."
   ]
  },
  {
   "cell_type": "markdown",
   "metadata": {},
   "source": [
    "<a id='wrangling'></a>\n",
    "## Data Wrangling\n",
    "\n",
    "> * Load in the data, \n",
    "> * Check for cleanliness\n",
    "\n",
    "Before exploring the dataset, necessary modules are imported for the analysis. "
   ]
  },
  {
   "cell_type": "code",
   "execution_count": 1,
   "metadata": {},
   "outputs": [
    {
     "name": "stderr",
     "output_type": "stream",
     "text": [
      "C:\\Users\\U083682\\AppData\\Local\\Continuum\\anaconda3\\lib\\site-packages\\sklearn\\cross_validation.py:41: DeprecationWarning: This module was deprecated in version 0.18 in favor of the model_selection module into which all the refactored classes and functions are moved. Also note that the interface of the new CV iterators are different from that of this module. This module will be removed in 0.20.\n",
      "  \"This module will be removed in 0.20.\", DeprecationWarning)\n"
     ]
    }
   ],
   "source": [
    "import pandas as pd\n",
    "import numpy as np\n",
    "import matplotlib.pyplot as plt\n",
    "import seaborn as sns\n",
    "import statsmodels.api as sm\n",
    "from sklearn.preprocessing import Imputer\n",
    "from sklearn.cross_validation import train_test_split\n",
    "from sklearn.preprocessing import StandardScaler\n",
    "from sklearn.linear_model import LogisticRegression\n",
    "from sklearn.metrics import confusion_matrix\n",
    "from sklearn.cluster import KMeans\n",
    "from mpl_toolkits.mplot3d import Axes3D\n",
    "from pandas import pivot_table\n",
    "from datetime import date, timedelta, datetime\n",
    "from sklearn.tree import DecisionTreeClassifier \n",
    "from sklearn import metrics\n",
    "from sklearn.tree import export_graphviz\n",
    "from sklearn.externals.six import StringIO  \n",
    "from IPython.display import Image  \n",
    "import pydotplus\n",
    "\n",
    "% matplotlib inline\n",
    "from difflib import get_close_matches"
   ]
  },
  {
   "cell_type": "markdown",
   "metadata": {},
   "source": [
    "In this section we are going to upload and look up the table and basic statistic to gain some inside for the questions."
   ]
  },
  {
   "cell_type": "code",
   "execution_count": 2,
   "metadata": {},
   "outputs": [
    {
     "data": {
      "text/html": [
       "<div>\n",
       "<style scoped>\n",
       "    .dataframe tbody tr th:only-of-type {\n",
       "        vertical-align: middle;\n",
       "    }\n",
       "\n",
       "    .dataframe tbody tr th {\n",
       "        vertical-align: top;\n",
       "    }\n",
       "\n",
       "    .dataframe thead th {\n",
       "        text-align: right;\n",
       "    }\n",
       "</style>\n",
       "<table border=\"1\" class=\"dataframe\">\n",
       "  <thead>\n",
       "    <tr style=\"text-align: right;\">\n",
       "      <th></th>\n",
       "      <th>Year-Month</th>\n",
       "      <th>Agency Number</th>\n",
       "      <th>Agency Name</th>\n",
       "      <th>Cardholder Last Name</th>\n",
       "      <th>Cardholder First Initial</th>\n",
       "      <th>Description</th>\n",
       "      <th>Amount</th>\n",
       "      <th>Vendor</th>\n",
       "      <th>Transaction Date</th>\n",
       "      <th>Posted Date</th>\n",
       "      <th>Merchant Category Code (MCC)</th>\n",
       "    </tr>\n",
       "  </thead>\n",
       "  <tbody>\n",
       "    <tr>\n",
       "      <th>410357</th>\n",
       "      <td>201405</td>\n",
       "      <td>60500</td>\n",
       "      <td>REGENTS FOR HIGHER EDUCATION</td>\n",
       "      <td>Ferguson</td>\n",
       "      <td>K</td>\n",
       "      <td>GENERAL PURCHASE</td>\n",
       "      <td>89.99</td>\n",
       "      <td>GODADDY.COM</td>\n",
       "      <td>05/02/2014 12:00:00 AM</td>\n",
       "      <td>05/05/2014 12:00:00 AM</td>\n",
       "      <td>COMPUTER NETWORK/INFORMATION SERVICES</td>\n",
       "    </tr>\n",
       "    <tr>\n",
       "      <th>285742</th>\n",
       "      <td>201403</td>\n",
       "      <td>2500</td>\n",
       "      <td>OKLAHOMA MILITARY DEPARTMENT</td>\n",
       "      <td>GULLEY</td>\n",
       "      <td>P</td>\n",
       "      <td>PRODUCTS AND SERVICES EA</td>\n",
       "      <td>16.80</td>\n",
       "      <td>VOSS LIGHTING - TULSA</td>\n",
       "      <td>02/27/2014 12:00:00 AM</td>\n",
       "      <td>03/03/2014 12:00:00 AM</td>\n",
       "      <td>ELECTRICAL PARTS AND EQUIPMENT</td>\n",
       "    </tr>\n",
       "    <tr>\n",
       "      <th>338232</th>\n",
       "      <td>201403</td>\n",
       "      <td>76000</td>\n",
       "      <td>UNIVERSITY OF OKLAHOMA</td>\n",
       "      <td>FLETCHER</td>\n",
       "      <td>A</td>\n",
       "      <td>1.5 GAL FOLIAGE BASIC EA|15 OZ PURPLE FOLIAGE ...</td>\n",
       "      <td>1.94</td>\n",
       "      <td>LOWES #01165</td>\n",
       "      <td>02/28/2014 12:00:00 AM</td>\n",
       "      <td>03/03/2014 12:00:00 AM</td>\n",
       "      <td>HOME SUPPLY WAREHOUSE STORES</td>\n",
       "    </tr>\n",
       "    <tr>\n",
       "      <th>100656</th>\n",
       "      <td>201307</td>\n",
       "      <td>32000</td>\n",
       "      <td>DEPARTMENT OF WILDLIFE CONSERVATION</td>\n",
       "      <td>Davenport</td>\n",
       "      <td>J</td>\n",
       "      <td>GENERAL PURCHASE</td>\n",
       "      <td>53.75</td>\n",
       "      <td>JAMES SUPPLIES AND RENTAL</td>\n",
       "      <td>07/24/2013 12:00:00 AM</td>\n",
       "      <td>07/26/2013 12:00:00 AM</td>\n",
       "      <td>WELDING SERVICES</td>\n",
       "    </tr>\n",
       "    <tr>\n",
       "      <th>284281</th>\n",
       "      <td>201404</td>\n",
       "      <td>1000</td>\n",
       "      <td>OKLAHOMA STATE UNIVERSITY</td>\n",
       "      <td>Buchanan</td>\n",
       "      <td>J</td>\n",
       "      <td>25 nmole DNA Oligo 1|25 nmole DNA Oligo 1</td>\n",
       "      <td>22.00</td>\n",
       "      <td>INTEGRATED DNA TECH</td>\n",
       "      <td>04/18/2014 12:00:00 AM</td>\n",
       "      <td>04/21/2014 12:00:00 AM</td>\n",
       "      <td>NON-DURABLE GOODS NOT ELSEWHERE CLASSIFIED</td>\n",
       "    </tr>\n",
       "    <tr>\n",
       "      <th>241169</th>\n",
       "      <td>201307</td>\n",
       "      <td>80500</td>\n",
       "      <td>DEPARTMENT OF REHABILITATION SERVICES</td>\n",
       "      <td>KING</td>\n",
       "      <td>R</td>\n",
       "      <td>GENERAL PURCHASE</td>\n",
       "      <td>72.73</td>\n",
       "      <td>SUDDENLINK-NAT'L SITE</td>\n",
       "      <td>07/17/2013 12:00:00 AM</td>\n",
       "      <td>07/18/2013 12:00:00 AM</td>\n",
       "      <td>CABLE, SATELLITE, AND OTHER PAY TELEVISION AND...</td>\n",
       "    </tr>\n",
       "    <tr>\n",
       "      <th>437832</th>\n",
       "      <td>201405</td>\n",
       "      <td>80000</td>\n",
       "      <td>OKLA. CAREER AND TECHNOLOGY EDUCATION</td>\n",
       "      <td>GOODNER</td>\n",
       "      <td>M</td>\n",
       "      <td>AIR TRAVEL</td>\n",
       "      <td>594.00</td>\n",
       "      <td>AMERICAN AI 0012389994239</td>\n",
       "      <td>05/21/2014 12:00:00 AM</td>\n",
       "      <td>05/23/2014 12:00:00 AM</td>\n",
       "      <td>AMERICAN AIRLINES</td>\n",
       "    </tr>\n",
       "    <tr>\n",
       "      <th>17939</th>\n",
       "      <td>201308</td>\n",
       "      <td>1000</td>\n",
       "      <td>OKLAHOMA STATE UNIVERSITY</td>\n",
       "      <td>Kindred</td>\n",
       "      <td>A</td>\n",
       "      <td>GENERAL PURCHASE</td>\n",
       "      <td>546.00</td>\n",
       "      <td>CYGNUS BUSINESS MEDIA</td>\n",
       "      <td>08/20/2013 12:00:00 AM</td>\n",
       "      <td>08/21/2013 12:00:00 AM</td>\n",
       "      <td>DIRCT MARKETING/DIRCT MARKETERS--NOT ELSEWHERE...</td>\n",
       "    </tr>\n",
       "    <tr>\n",
       "      <th>107124</th>\n",
       "      <td>201307</td>\n",
       "      <td>34500</td>\n",
       "      <td>DEPARTMENT OF TRANSPORTATION</td>\n",
       "      <td>Lewis</td>\n",
       "      <td>G</td>\n",
       "      <td>GENERAL PURCHASE</td>\n",
       "      <td>4930.82</td>\n",
       "      <td>ROCK HAULERS LLC</td>\n",
       "      <td>07/02/2013 12:00:00 AM</td>\n",
       "      <td>07/04/2013 12:00:00 AM</td>\n",
       "      <td>CONSTRUCTION MATERIALS NOT ELSEWHERE CLASSIFIED</td>\n",
       "    </tr>\n",
       "    <tr>\n",
       "      <th>286406</th>\n",
       "      <td>201402</td>\n",
       "      <td>4000</td>\n",
       "      <td>DEPARTMENT OF AGRICULTURE, FOOD, ANF FOR</td>\n",
       "      <td>Whaley</td>\n",
       "      <td>J</td>\n",
       "      <td>GENERAL PURCHASE</td>\n",
       "      <td>30.31</td>\n",
       "      <td>LOCKE SUPPLY WE MCALESTER</td>\n",
       "      <td>02/11/2014 12:00:00 AM</td>\n",
       "      <td>02/13/2014 12:00:00 AM</td>\n",
       "      <td>HARDWARE STORES</td>\n",
       "    </tr>\n",
       "  </tbody>\n",
       "</table>\n",
       "</div>"
      ],
      "text/plain": [
       "        Year-Month  Agency Number                               Agency Name  \\\n",
       "410357      201405          60500              REGENTS FOR HIGHER EDUCATION   \n",
       "285742      201403           2500              OKLAHOMA MILITARY DEPARTMENT   \n",
       "338232      201403          76000                    UNIVERSITY OF OKLAHOMA   \n",
       "100656      201307          32000       DEPARTMENT OF WILDLIFE CONSERVATION   \n",
       "284281      201404           1000                 OKLAHOMA STATE UNIVERSITY   \n",
       "241169      201307          80500     DEPARTMENT OF REHABILITATION SERVICES   \n",
       "437832      201405          80000     OKLA. CAREER AND TECHNOLOGY EDUCATION   \n",
       "17939       201308           1000                 OKLAHOMA STATE UNIVERSITY   \n",
       "107124      201307          34500              DEPARTMENT OF TRANSPORTATION   \n",
       "286406      201402           4000  DEPARTMENT OF AGRICULTURE, FOOD, ANF FOR   \n",
       "\n",
       "       Cardholder Last Name Cardholder First Initial  \\\n",
       "410357             Ferguson                        K   \n",
       "285742               GULLEY                        P   \n",
       "338232             FLETCHER                        A   \n",
       "100656            Davenport                        J   \n",
       "284281             Buchanan                        J   \n",
       "241169                 KING                        R   \n",
       "437832              GOODNER                        M   \n",
       "17939               Kindred                        A   \n",
       "107124                Lewis                        G   \n",
       "286406               Whaley                        J   \n",
       "\n",
       "                                              Description   Amount  \\\n",
       "410357                                   GENERAL PURCHASE    89.99   \n",
       "285742                           PRODUCTS AND SERVICES EA    16.80   \n",
       "338232  1.5 GAL FOLIAGE BASIC EA|15 OZ PURPLE FOLIAGE ...     1.94   \n",
       "100656                                   GENERAL PURCHASE    53.75   \n",
       "284281          25 nmole DNA Oligo 1|25 nmole DNA Oligo 1    22.00   \n",
       "241169                                   GENERAL PURCHASE    72.73   \n",
       "437832                                         AIR TRAVEL   594.00   \n",
       "17939                                    GENERAL PURCHASE   546.00   \n",
       "107124                                   GENERAL PURCHASE  4930.82   \n",
       "286406                                   GENERAL PURCHASE    30.31   \n",
       "\n",
       "                           Vendor        Transaction Date  \\\n",
       "410357                GODADDY.COM  05/02/2014 12:00:00 AM   \n",
       "285742      VOSS LIGHTING - TULSA  02/27/2014 12:00:00 AM   \n",
       "338232               LOWES #01165  02/28/2014 12:00:00 AM   \n",
       "100656  JAMES SUPPLIES AND RENTAL  07/24/2013 12:00:00 AM   \n",
       "284281        INTEGRATED DNA TECH  04/18/2014 12:00:00 AM   \n",
       "241169      SUDDENLINK-NAT'L SITE  07/17/2013 12:00:00 AM   \n",
       "437832  AMERICAN AI 0012389994239  05/21/2014 12:00:00 AM   \n",
       "17939       CYGNUS BUSINESS MEDIA  08/20/2013 12:00:00 AM   \n",
       "107124           ROCK HAULERS LLC  07/02/2013 12:00:00 AM   \n",
       "286406  LOCKE SUPPLY WE MCALESTER  02/11/2014 12:00:00 AM   \n",
       "\n",
       "                   Posted Date  \\\n",
       "410357  05/05/2014 12:00:00 AM   \n",
       "285742  03/03/2014 12:00:00 AM   \n",
       "338232  03/03/2014 12:00:00 AM   \n",
       "100656  07/26/2013 12:00:00 AM   \n",
       "284281  04/21/2014 12:00:00 AM   \n",
       "241169  07/18/2013 12:00:00 AM   \n",
       "437832  05/23/2014 12:00:00 AM   \n",
       "17939   08/21/2013 12:00:00 AM   \n",
       "107124  07/04/2013 12:00:00 AM   \n",
       "286406  02/13/2014 12:00:00 AM   \n",
       "\n",
       "                             Merchant Category Code (MCC)  \n",
       "410357              COMPUTER NETWORK/INFORMATION SERVICES  \n",
       "285742                     ELECTRICAL PARTS AND EQUIPMENT  \n",
       "338232                       HOME SUPPLY WAREHOUSE STORES  \n",
       "100656                                   WELDING SERVICES  \n",
       "284281         NON-DURABLE GOODS NOT ELSEWHERE CLASSIFIED  \n",
       "241169  CABLE, SATELLITE, AND OTHER PAY TELEVISION AND...  \n",
       "437832                                  AMERICAN AIRLINES  \n",
       "17939   DIRCT MARKETING/DIRCT MARKETERS--NOT ELSEWHERE...  \n",
       "107124    CONSTRUCTION MATERIALS NOT ELSEWHERE CLASSIFIED  \n",
       "286406                                    HARDWARE STORES  "
      ]
     },
     "execution_count": 2,
     "metadata": {},
     "output_type": "execute_result"
    }
   ],
   "source": [
    "df = pd.read_csv(\"res_purchase_card_(pcard)_fiscal_year_2014_3pcd-aiuu.csv\")\n",
    "df.sample(10)"
   ]
  },
  {
   "cell_type": "markdown",
   "metadata": {},
   "source": [
    "At first glance, it seems that it is not a clean dataset. \n",
    "\n",
    "•All columns should be checked one by one; however even without do it there is no standartization for describtion and vendor columns.\n",
    "\n",
    "\n",
    "•Also, columns' name should be standartized."
   ]
  },
  {
   "cell_type": "code",
   "execution_count": 3,
   "metadata": {},
   "outputs": [
    {
     "data": {
      "text/plain": [
       "(442458, 11)"
      ]
     },
     "execution_count": 3,
     "metadata": {},
     "output_type": "execute_result"
    }
   ],
   "source": [
    "df.shape"
   ]
  },
  {
   "cell_type": "markdown",
   "metadata": {},
   "source": [
    "Dataset includes approximately 442K rows and 11 columns/features"
   ]
  },
  {
   "cell_type": "code",
   "execution_count": 4,
   "metadata": {},
   "outputs": [
    {
     "name": "stdout",
     "output_type": "stream",
     "text": [
      "<class 'pandas.core.frame.DataFrame'>\n",
      "RangeIndex: 442458 entries, 0 to 442457\n",
      "Data columns (total 11 columns):\n",
      "Year-Month                      442458 non-null int64\n",
      "Agency Number                   442458 non-null int64\n",
      "Agency Name                     442458 non-null object\n",
      "Cardholder Last Name            442458 non-null object\n",
      "Cardholder First Initial        442458 non-null object\n",
      "Description                     442458 non-null object\n",
      "Amount                          442458 non-null float64\n",
      "Vendor                          442458 non-null object\n",
      "Transaction Date                442458 non-null object\n",
      "Posted Date                     442458 non-null object\n",
      "Merchant Category Code (MCC)    442458 non-null object\n",
      "dtypes: float64(1), int64(2), object(8)\n",
      "memory usage: 37.1+ MB\n"
     ]
    }
   ],
   "source": [
    "df.info()"
   ]
  },
  {
   "cell_type": "code",
   "execution_count": 5,
   "metadata": {},
   "outputs": [
    {
     "data": {
      "text/plain": [
       "Year-Month                      0\n",
       "Agency Number                   0\n",
       "Agency Name                     0\n",
       "Cardholder Last Name            0\n",
       "Cardholder First Initial        0\n",
       "Description                     0\n",
       "Amount                          0\n",
       "Vendor                          0\n",
       "Transaction Date                0\n",
       "Posted Date                     0\n",
       "Merchant Category Code (MCC)    0\n",
       "dtype: int64"
      ]
     },
     "execution_count": 5,
     "metadata": {},
     "output_type": "execute_result"
    }
   ],
   "source": [
    "df.isnull().sum()"
   ]
  },
  {
   "cell_type": "markdown",
   "metadata": {},
   "source": [
    "There is no any missing values. "
   ]
  },
  {
   "cell_type": "code",
   "execution_count": 6,
   "metadata": {},
   "outputs": [
    {
     "data": {
      "text/html": [
       "<div>\n",
       "<style scoped>\n",
       "    .dataframe tbody tr th:only-of-type {\n",
       "        vertical-align: middle;\n",
       "    }\n",
       "\n",
       "    .dataframe tbody tr th {\n",
       "        vertical-align: top;\n",
       "    }\n",
       "\n",
       "    .dataframe thead th {\n",
       "        text-align: right;\n",
       "    }\n",
       "</style>\n",
       "<table border=\"1\" class=\"dataframe\">\n",
       "  <thead>\n",
       "    <tr style=\"text-align: right;\">\n",
       "      <th></th>\n",
       "      <th>count</th>\n",
       "      <th>mean</th>\n",
       "      <th>std</th>\n",
       "      <th>min</th>\n",
       "      <th>25%</th>\n",
       "      <th>50%</th>\n",
       "      <th>75%</th>\n",
       "      <th>max</th>\n",
       "    </tr>\n",
       "  </thead>\n",
       "  <tbody>\n",
       "    <tr>\n",
       "      <th>Year-Month</th>\n",
       "      <td>442458.0</td>\n",
       "      <td>201357.284375</td>\n",
       "      <td>47.107417</td>\n",
       "      <td>201307.00</td>\n",
       "      <td>201309.00</td>\n",
       "      <td>201401.00</td>\n",
       "      <td>201404.0</td>\n",
       "      <td>201406.00</td>\n",
       "    </tr>\n",
       "    <tr>\n",
       "      <th>Agency Number</th>\n",
       "      <td>442458.0</td>\n",
       "      <td>42785.860353</td>\n",
       "      <td>33378.461293</td>\n",
       "      <td>1000.00</td>\n",
       "      <td>1000.00</td>\n",
       "      <td>47700.00</td>\n",
       "      <td>76000.0</td>\n",
       "      <td>98000.00</td>\n",
       "    </tr>\n",
       "    <tr>\n",
       "      <th>Amount</th>\n",
       "      <td>442458.0</td>\n",
       "      <td>424.991170</td>\n",
       "      <td>5266.509108</td>\n",
       "      <td>-42863.04</td>\n",
       "      <td>30.91</td>\n",
       "      <td>104.89</td>\n",
       "      <td>345.0</td>\n",
       "      <td>1903858.37</td>\n",
       "    </tr>\n",
       "  </tbody>\n",
       "</table>\n",
       "</div>"
      ],
      "text/plain": [
       "                  count           mean           std        min        25%  \\\n",
       "Year-Month     442458.0  201357.284375     47.107417  201307.00  201309.00   \n",
       "Agency Number  442458.0   42785.860353  33378.461293    1000.00    1000.00   \n",
       "Amount         442458.0     424.991170   5266.509108  -42863.04      30.91   \n",
       "\n",
       "                     50%       75%         max  \n",
       "Year-Month     201401.00  201404.0   201406.00  \n",
       "Agency Number   47700.00   76000.0    98000.00  \n",
       "Amount            104.89     345.0  1903858.37  "
      ]
     },
     "execution_count": 6,
     "metadata": {},
     "output_type": "execute_result"
    }
   ],
   "source": [
    "df.describe().transpose()"
   ]
  },
  {
   "cell_type": "markdown",
   "metadata": {},
   "source": [
    "Amount feature has negative values. It should be checked whether there is any quality issue or not."
   ]
  },
  {
   "cell_type": "code",
   "execution_count": 7,
   "metadata": {},
   "outputs": [
    {
     "data": {
      "text/html": [
       "<div>\n",
       "<style scoped>\n",
       "    .dataframe tbody tr th:only-of-type {\n",
       "        vertical-align: middle;\n",
       "    }\n",
       "\n",
       "    .dataframe tbody tr th {\n",
       "        vertical-align: top;\n",
       "    }\n",
       "\n",
       "    .dataframe thead th {\n",
       "        text-align: right;\n",
       "    }\n",
       "</style>\n",
       "<table border=\"1\" class=\"dataframe\">\n",
       "  <thead>\n",
       "    <tr style=\"text-align: right;\">\n",
       "      <th></th>\n",
       "      <th>Year-Month</th>\n",
       "      <th>Agency Number</th>\n",
       "      <th>Agency Name</th>\n",
       "      <th>Cardholder Last Name</th>\n",
       "      <th>Cardholder First Initial</th>\n",
       "      <th>Description</th>\n",
       "      <th>Amount</th>\n",
       "      <th>Vendor</th>\n",
       "      <th>Transaction Date</th>\n",
       "      <th>Posted Date</th>\n",
       "      <th>Merchant Category Code (MCC)</th>\n",
       "    </tr>\n",
       "  </thead>\n",
       "  <tbody>\n",
       "    <tr>\n",
       "      <th>25</th>\n",
       "      <td>201307</td>\n",
       "      <td>1000</td>\n",
       "      <td>OKLAHOMA STATE UNIVERSITY</td>\n",
       "      <td>Foye</td>\n",
       "      <td>S</td>\n",
       "      <td>GENERAL PURCHASE</td>\n",
       "      <td>-30.00</td>\n",
       "      <td>AFFYMETRIX, INC</td>\n",
       "      <td>07/26/2013 12:00:00 AM</td>\n",
       "      <td>07/29/2013 12:00:00 AM</td>\n",
       "      <td>DENTAL/LABORATORY/MEDICAL/OPHTHALMIC HOSP EQIP...</td>\n",
       "    </tr>\n",
       "    <tr>\n",
       "      <th>114</th>\n",
       "      <td>201307</td>\n",
       "      <td>1000</td>\n",
       "      <td>OKLAHOMA STATE UNIVERSITY</td>\n",
       "      <td>Henderson</td>\n",
       "      <td>K</td>\n",
       "      <td>GENERAL PURCHASE</td>\n",
       "      <td>-340.00</td>\n",
       "      <td>INTERWRX (INTERWRX.COM)</td>\n",
       "      <td>07/26/2013 12:00:00 AM</td>\n",
       "      <td>07/29/2013 12:00:00 AM</td>\n",
       "      <td>TELECOMMUNICATION EQUIPMENT AND TELEPHONE SALES</td>\n",
       "    </tr>\n",
       "    <tr>\n",
       "      <th>148</th>\n",
       "      <td>201307</td>\n",
       "      <td>1000</td>\n",
       "      <td>OKLAHOMA STATE UNIVERSITY</td>\n",
       "      <td>Flock</td>\n",
       "      <td>S</td>\n",
       "      <td>WTRFALL PUMP EA|WTRFALL PUMP EA</td>\n",
       "      <td>-258.00</td>\n",
       "      <td>THE HOME DEPOT 3904</td>\n",
       "      <td>07/26/2013 12:00:00 AM</td>\n",
       "      <td>07/29/2013 12:00:00 AM</td>\n",
       "      <td>HOME SUPPLY WAREHOUSE STORES</td>\n",
       "    </tr>\n",
       "    <tr>\n",
       "      <th>178</th>\n",
       "      <td>201307</td>\n",
       "      <td>1000</td>\n",
       "      <td>OKLAHOMA STATE UNIVERSITY</td>\n",
       "      <td>Arthur</td>\n",
       "      <td>H</td>\n",
       "      <td>GENERAL PURCHASE</td>\n",
       "      <td>-167.20</td>\n",
       "      <td>GRAND VISTA HOTEL SIMI VA</td>\n",
       "      <td>07/29/2013 12:00:00 AM</td>\n",
       "      <td>07/30/2013 12:00:00 AM</td>\n",
       "      <td>LODGING--HOTELS,MOTELS,AND RESORTS</td>\n",
       "    </tr>\n",
       "    <tr>\n",
       "      <th>185</th>\n",
       "      <td>201307</td>\n",
       "      <td>1000</td>\n",
       "      <td>OKLAHOMA STATE UNIVERSITY</td>\n",
       "      <td>Page</td>\n",
       "      <td>M</td>\n",
       "      <td>GENERAL PURCHASE</td>\n",
       "      <td>-39.26</td>\n",
       "      <td>Amazon.com</td>\n",
       "      <td>07/30/2013 12:00:00 AM</td>\n",
       "      <td>07/31/2013 12:00:00 AM</td>\n",
       "      <td>BOOK STORES</td>\n",
       "    </tr>\n",
       "    <tr>\n",
       "      <th>189</th>\n",
       "      <td>201307</td>\n",
       "      <td>1000</td>\n",
       "      <td>OKLAHOMA STATE UNIVERSITY</td>\n",
       "      <td>Parsons</td>\n",
       "      <td>D</td>\n",
       "      <td>GENERAL PURCHASE</td>\n",
       "      <td>-60.27</td>\n",
       "      <td>TC'S TRUCK PARTS</td>\n",
       "      <td>07/29/2013 12:00:00 AM</td>\n",
       "      <td>07/31/2013 12:00:00 AM</td>\n",
       "      <td>AUTOMOTIVE PARTS AND ACCESSORIES STORES</td>\n",
       "    </tr>\n",
       "    <tr>\n",
       "      <th>286</th>\n",
       "      <td>201307</td>\n",
       "      <td>1000</td>\n",
       "      <td>OKLAHOMA STATE UNIVERSITY</td>\n",
       "      <td>Bryant</td>\n",
       "      <td>K</td>\n",
       "      <td>Tax Adjustment EA</td>\n",
       "      <td>-2.42</td>\n",
       "      <td>WW GRAINGER</td>\n",
       "      <td>07/24/2013 12:00:00 AM</td>\n",
       "      <td>07/30/2013 12:00:00 AM</td>\n",
       "      <td>INDUSTRIAL SUPPLIES NOT ELSEWHERE CLASSIFIED</td>\n",
       "    </tr>\n",
       "    <tr>\n",
       "      <th>306</th>\n",
       "      <td>201307</td>\n",
       "      <td>1000</td>\n",
       "      <td>OKLAHOMA STATE UNIVERSITY</td>\n",
       "      <td>Coppick</td>\n",
       "      <td>L</td>\n",
       "      <td>GENERAL PURCHASE</td>\n",
       "      <td>-53.85</td>\n",
       "      <td>STILLWATER MILLING COMP</td>\n",
       "      <td>07/29/2013 12:00:00 AM</td>\n",
       "      <td>07/30/2013 12:00:00 AM</td>\n",
       "      <td>MISCELLANEOUS AND SPECIALTY RETAIL STORES</td>\n",
       "    </tr>\n",
       "    <tr>\n",
       "      <th>313</th>\n",
       "      <td>201307</td>\n",
       "      <td>1000</td>\n",
       "      <td>OKLAHOMA STATE UNIVERSITY</td>\n",
       "      <td>Dunford</td>\n",
       "      <td>N</td>\n",
       "      <td>GENERAL PURCHASE</td>\n",
       "      <td>-64.00</td>\n",
       "      <td>WESTIN KANSAS CITY</td>\n",
       "      <td>07/25/2013 12:00:00 AM</td>\n",
       "      <td>07/30/2013 12:00:00 AM</td>\n",
       "      <td>WESTIN HOTELS</td>\n",
       "    </tr>\n",
       "    <tr>\n",
       "      <th>356</th>\n",
       "      <td>201307</td>\n",
       "      <td>1000</td>\n",
       "      <td>OKLAHOMA STATE UNIVERSITY</td>\n",
       "      <td>Ivey</td>\n",
       "      <td>D</td>\n",
       "      <td>NEC P552 55 PCB</td>\n",
       "      <td>-2474.99</td>\n",
       "      <td>CDW GOVERNMENT</td>\n",
       "      <td>07/26/2013 12:00:00 AM</td>\n",
       "      <td>07/29/2013 12:00:00 AM</td>\n",
       "      <td>CATALOG MERCHANTS</td>\n",
       "    </tr>\n",
       "  </tbody>\n",
       "</table>\n",
       "</div>"
      ],
      "text/plain": [
       "     Year-Month  Agency Number                Agency Name  \\\n",
       "25       201307           1000  OKLAHOMA STATE UNIVERSITY   \n",
       "114      201307           1000  OKLAHOMA STATE UNIVERSITY   \n",
       "148      201307           1000  OKLAHOMA STATE UNIVERSITY   \n",
       "178      201307           1000  OKLAHOMA STATE UNIVERSITY   \n",
       "185      201307           1000  OKLAHOMA STATE UNIVERSITY   \n",
       "189      201307           1000  OKLAHOMA STATE UNIVERSITY   \n",
       "286      201307           1000  OKLAHOMA STATE UNIVERSITY   \n",
       "306      201307           1000  OKLAHOMA STATE UNIVERSITY   \n",
       "313      201307           1000  OKLAHOMA STATE UNIVERSITY   \n",
       "356      201307           1000  OKLAHOMA STATE UNIVERSITY   \n",
       "\n",
       "    Cardholder Last Name Cardholder First Initial  \\\n",
       "25                  Foye                        S   \n",
       "114            Henderson                        K   \n",
       "148                Flock                        S   \n",
       "178               Arthur                        H   \n",
       "185                 Page                        M   \n",
       "189              Parsons                        D   \n",
       "286               Bryant                        K   \n",
       "306              Coppick                        L   \n",
       "313              Dunford                        N   \n",
       "356                 Ivey                        D   \n",
       "\n",
       "                         Description   Amount                     Vendor  \\\n",
       "25                  GENERAL PURCHASE   -30.00            AFFYMETRIX, INC   \n",
       "114                 GENERAL PURCHASE  -340.00    INTERWRX (INTERWRX.COM)   \n",
       "148  WTRFALL PUMP EA|WTRFALL PUMP EA  -258.00        THE HOME DEPOT 3904   \n",
       "178                 GENERAL PURCHASE  -167.20  GRAND VISTA HOTEL SIMI VA   \n",
       "185                 GENERAL PURCHASE   -39.26                 Amazon.com   \n",
       "189                 GENERAL PURCHASE   -60.27           TC'S TRUCK PARTS   \n",
       "286                Tax Adjustment EA    -2.42                WW GRAINGER   \n",
       "306                 GENERAL PURCHASE   -53.85    STILLWATER MILLING COMP   \n",
       "313                 GENERAL PURCHASE   -64.00         WESTIN KANSAS CITY   \n",
       "356                  NEC P552 55 PCB -2474.99             CDW GOVERNMENT   \n",
       "\n",
       "           Transaction Date             Posted Date  \\\n",
       "25   07/26/2013 12:00:00 AM  07/29/2013 12:00:00 AM   \n",
       "114  07/26/2013 12:00:00 AM  07/29/2013 12:00:00 AM   \n",
       "148  07/26/2013 12:00:00 AM  07/29/2013 12:00:00 AM   \n",
       "178  07/29/2013 12:00:00 AM  07/30/2013 12:00:00 AM   \n",
       "185  07/30/2013 12:00:00 AM  07/31/2013 12:00:00 AM   \n",
       "189  07/29/2013 12:00:00 AM  07/31/2013 12:00:00 AM   \n",
       "286  07/24/2013 12:00:00 AM  07/30/2013 12:00:00 AM   \n",
       "306  07/29/2013 12:00:00 AM  07/30/2013 12:00:00 AM   \n",
       "313  07/25/2013 12:00:00 AM  07/30/2013 12:00:00 AM   \n",
       "356  07/26/2013 12:00:00 AM  07/29/2013 12:00:00 AM   \n",
       "\n",
       "                          Merchant Category Code (MCC)  \n",
       "25   DENTAL/LABORATORY/MEDICAL/OPHTHALMIC HOSP EQIP...  \n",
       "114    TELECOMMUNICATION EQUIPMENT AND TELEPHONE SALES  \n",
       "148                       HOME SUPPLY WAREHOUSE STORES  \n",
       "178                 LODGING--HOTELS,MOTELS,AND RESORTS  \n",
       "185                                        BOOK STORES  \n",
       "189            AUTOMOTIVE PARTS AND ACCESSORIES STORES  \n",
       "286       INDUSTRIAL SUPPLIES NOT ELSEWHERE CLASSIFIED  \n",
       "306          MISCELLANEOUS AND SPECIALTY RETAIL STORES  \n",
       "313                                      WESTIN HOTELS  \n",
       "356                                  CATALOG MERCHANTS  "
      ]
     },
     "execution_count": 7,
     "metadata": {},
     "output_type": "execute_result"
    }
   ],
   "source": [
    "df[df['Amount'] < 0].head(10)"
   ]
  },
  {
   "cell_type": "markdown",
   "metadata": {},
   "source": [
    "There is no spesific vendor or MCC code for observations which have negative amount."
   ]
  },
  {
   "cell_type": "code",
   "execution_count": 8,
   "metadata": {},
   "outputs": [
    {
     "data": {
      "text/html": [
       "<div>\n",
       "<style scoped>\n",
       "    .dataframe tbody tr th:only-of-type {\n",
       "        vertical-align: middle;\n",
       "    }\n",
       "\n",
       "    .dataframe tbody tr th {\n",
       "        vertical-align: top;\n",
       "    }\n",
       "\n",
       "    .dataframe thead th {\n",
       "        text-align: right;\n",
       "    }\n",
       "</style>\n",
       "<table border=\"1\" class=\"dataframe\">\n",
       "  <thead>\n",
       "    <tr style=\"text-align: right;\">\n",
       "      <th></th>\n",
       "      <th>Year-Month</th>\n",
       "      <th>Agency Number</th>\n",
       "      <th>Agency Name</th>\n",
       "      <th>Cardholder Last Name</th>\n",
       "      <th>Cardholder First Initial</th>\n",
       "      <th>Description</th>\n",
       "      <th>Amount</th>\n",
       "      <th>Vendor</th>\n",
       "      <th>Transaction Date</th>\n",
       "      <th>Posted Date</th>\n",
       "      <th>Merchant Category Code (MCC)</th>\n",
       "    </tr>\n",
       "  </thead>\n",
       "  <tbody>\n",
       "    <tr>\n",
       "      <th>356</th>\n",
       "      <td>201307</td>\n",
       "      <td>1000</td>\n",
       "      <td>OKLAHOMA STATE UNIVERSITY</td>\n",
       "      <td>Ivey</td>\n",
       "      <td>D</td>\n",
       "      <td>NEC P552 55 PCB</td>\n",
       "      <td>-2474.99</td>\n",
       "      <td>CDW GOVERNMENT</td>\n",
       "      <td>07/26/2013 12:00:00 AM</td>\n",
       "      <td>07/29/2013 12:00:00 AM</td>\n",
       "      <td>CATALOG MERCHANTS</td>\n",
       "    </tr>\n",
       "    <tr>\n",
       "      <th>1367</th>\n",
       "      <td>201307</td>\n",
       "      <td>1000</td>\n",
       "      <td>OKLAHOMA STATE UNIVERSITY</td>\n",
       "      <td>Ivey</td>\n",
       "      <td>D</td>\n",
       "      <td>NEC P552 55 PCB</td>\n",
       "      <td>2474.99</td>\n",
       "      <td>CDW GOVERNMENT</td>\n",
       "      <td>07/30/2013 12:00:00 AM</td>\n",
       "      <td>07/31/2013 12:00:00 AM</td>\n",
       "      <td>CATALOG MERCHANTS</td>\n",
       "    </tr>\n",
       "    <tr>\n",
       "      <th>4419</th>\n",
       "      <td>201307</td>\n",
       "      <td>1000</td>\n",
       "      <td>OKLAHOMA STATE UNIVERSITY</td>\n",
       "      <td>Ivey</td>\n",
       "      <td>D</td>\n",
       "      <td>GENERAL PURCHASE</td>\n",
       "      <td>9.99</td>\n",
       "      <td>APL APPLE ITUNES STORE</td>\n",
       "      <td>06/28/2013 12:00:00 AM</td>\n",
       "      <td>07/01/2013 12:00:00 AM</td>\n",
       "      <td>RECORD STORES</td>\n",
       "    </tr>\n",
       "    <tr>\n",
       "      <th>4420</th>\n",
       "      <td>201307</td>\n",
       "      <td>1000</td>\n",
       "      <td>OKLAHOMA STATE UNIVERSITY</td>\n",
       "      <td>Ivey</td>\n",
       "      <td>D</td>\n",
       "      <td>GENERAL PURCHASE</td>\n",
       "      <td>9.99</td>\n",
       "      <td>APL APPLE ITUNES STORE</td>\n",
       "      <td>06/28/2013 12:00:00 AM</td>\n",
       "      <td>07/01/2013 12:00:00 AM</td>\n",
       "      <td>RECORD STORES</td>\n",
       "    </tr>\n",
       "    <tr>\n",
       "      <th>4421</th>\n",
       "      <td>201307</td>\n",
       "      <td>1000</td>\n",
       "      <td>OKLAHOMA STATE UNIVERSITY</td>\n",
       "      <td>Ivey</td>\n",
       "      <td>D</td>\n",
       "      <td>GENERAL PURCHASE</td>\n",
       "      <td>9.99</td>\n",
       "      <td>APL APPLE ITUNES STORE</td>\n",
       "      <td>06/28/2013 12:00:00 AM</td>\n",
       "      <td>07/01/2013 12:00:00 AM</td>\n",
       "      <td>RECORD STORES</td>\n",
       "    </tr>\n",
       "  </tbody>\n",
       "</table>\n",
       "</div>"
      ],
      "text/plain": [
       "      Year-Month  Agency Number                Agency Name  \\\n",
       "356       201307           1000  OKLAHOMA STATE UNIVERSITY   \n",
       "1367      201307           1000  OKLAHOMA STATE UNIVERSITY   \n",
       "4419      201307           1000  OKLAHOMA STATE UNIVERSITY   \n",
       "4420      201307           1000  OKLAHOMA STATE UNIVERSITY   \n",
       "4421      201307           1000  OKLAHOMA STATE UNIVERSITY   \n",
       "\n",
       "     Cardholder Last Name Cardholder First Initial       Description   Amount  \\\n",
       "356                  Ivey                        D   NEC P552 55 PCB -2474.99   \n",
       "1367                 Ivey                        D   NEC P552 55 PCB  2474.99   \n",
       "4419                 Ivey                        D  GENERAL PURCHASE     9.99   \n",
       "4420                 Ivey                        D  GENERAL PURCHASE     9.99   \n",
       "4421                 Ivey                        D  GENERAL PURCHASE     9.99   \n",
       "\n",
       "                      Vendor        Transaction Date             Posted Date  \\\n",
       "356           CDW GOVERNMENT  07/26/2013 12:00:00 AM  07/29/2013 12:00:00 AM   \n",
       "1367          CDW GOVERNMENT  07/30/2013 12:00:00 AM  07/31/2013 12:00:00 AM   \n",
       "4419  APL APPLE ITUNES STORE  06/28/2013 12:00:00 AM  07/01/2013 12:00:00 AM   \n",
       "4420  APL APPLE ITUNES STORE  06/28/2013 12:00:00 AM  07/01/2013 12:00:00 AM   \n",
       "4421  APL APPLE ITUNES STORE  06/28/2013 12:00:00 AM  07/01/2013 12:00:00 AM   \n",
       "\n",
       "     Merchant Category Code (MCC)  \n",
       "356             CATALOG MERCHANTS  \n",
       "1367            CATALOG MERCHANTS  \n",
       "4419                RECORD STORES  \n",
       "4420                RECORD STORES  \n",
       "4421                RECORD STORES  "
      ]
     },
     "execution_count": 8,
     "metadata": {},
     "output_type": "execute_result"
    }
   ],
   "source": [
    "df[df['Cardholder Last Name'] == 'Ivey'].head()"
   ]
  },
  {
   "cell_type": "markdown",
   "metadata": {},
   "source": [
    "When I investigate spesically for Ivey, I think that it is not quality or payback issue; because, money got into account 3 days before pay it back. Therefore, I will be left negative amounts as it is."
   ]
  },
  {
   "cell_type": "code",
   "execution_count": 9,
   "metadata": {},
   "outputs": [
    {
     "data": {
      "text/plain": [
       "Year-Month                         12\n",
       "Agency Number                     116\n",
       "Agency Name                       124\n",
       "Cardholder Last Name             3911\n",
       "Cardholder First Initial           38\n",
       "Description                     88749\n",
       "Amount                          90447\n",
       "Vendor                          86729\n",
       "Transaction Date                  392\n",
       "Posted Date                       258\n",
       "Merchant Category Code (MCC)      435\n",
       "dtype: int64"
      ]
     },
     "execution_count": 9,
     "metadata": {},
     "output_type": "execute_result"
    }
   ],
   "source": [
    "df.nunique()"
   ]
  },
  {
   "cell_type": "markdown",
   "metadata": {},
   "source": [
    "There are too many unique observations for vendor and description columns. They need to be cleaned before doing any analysis."
   ]
  },
  {
   "cell_type": "markdown",
   "metadata": {},
   "source": [
    "We have little dirty dataset. Following tidiness and quality issues that found from at the data wrangling part, is needed to be solved.\n",
    "\n",
    "* Labels should be renamed.                 \n",
    "* Donot anything for amount column, it could mean that there are inflow transactions. In the further analysis, outlier elimantion could be done.\n",
    "* There are observations which have numeric cardholder last and first initial name. These observation should be dropped; because, they are big data quality issue. Also, some observations has \"Cardholder\" as cardholder last name. They are also data quality issue that needs to be dropped.\n",
    "* There is no standartization for vendor column, observations which could be same meaning should be grouped.\n",
    "* I will not use description column; because, it has many unique value. Hard to standatized in a short time."
   ]
  },
  {
   "cell_type": "markdown",
   "metadata": {},
   "source": [
    "<a id='datacleaning'></a>\n",
    "## Cleaning Data\n",
    "\n",
    "In this section, I am going to define the problem which are listed in data wrangling part, code the solution then test the code sequentialy."
   ]
  },
  {
   "cell_type": "code",
   "execution_count": 10,
   "metadata": {},
   "outputs": [],
   "source": [
    "df_clean = df.copy()"
   ]
  },
  {
   "cell_type": "markdown",
   "metadata": {},
   "source": [
    "#### Define (1)\n",
    "\n",
    "Labels should be renamed."
   ]
  },
  {
   "cell_type": "markdown",
   "metadata": {},
   "source": [
    "#### Code"
   ]
  },
  {
   "cell_type": "code",
   "execution_count": 11,
   "metadata": {},
   "outputs": [],
   "source": [
    "df_clean = df_clean.rename(columns={'Year-Month' :'year_month',\n",
    "                                    'Agency Number' : 'agency_number',\n",
    "                                    'Agency Name':'agency_name',\n",
    "                                    'Cardholder Last Name': 'cardholder_lname',\n",
    "                                    'Cardholder First Initial': 'cardholder_finit',\n",
    "                                    'Transaction Date': 'transaction_date',\n",
    "                                    'Posted Date': 'posted_date',\n",
    "                                    'Merchant Category Code (MCC)': 'MCC',\n",
    "                                    'Description': 'description',\n",
    "                                    'Vendor': 'vendor',\n",
    "                                    'Amount': 'amount'})"
   ]
  },
  {
   "cell_type": "markdown",
   "metadata": {},
   "source": [
    "#### Test"
   ]
  },
  {
   "cell_type": "code",
   "execution_count": 12,
   "metadata": {},
   "outputs": [
    {
     "data": {
      "text/plain": [
       "Index(['year_month', 'agency_number', 'agency_name', 'cardholder_lname',\n",
       "       'cardholder_finit', 'description', 'amount', 'vendor',\n",
       "       'transaction_date', 'posted_date', 'MCC'],\n",
       "      dtype='object')"
      ]
     },
     "execution_count": 12,
     "metadata": {},
     "output_type": "execute_result"
    }
   ],
   "source": [
    "df_clean.columns"
   ]
  },
  {
   "cell_type": "markdown",
   "metadata": {},
   "source": [
    "#### Define(2)\n",
    "\n",
    "There are observations which have numeric cardholder last and first initial name. These observation should be dropped; because, they are big data quality issue. Also, some observations has Cardholder as cardholder last name. They are also data quality issue that needs to be dropped."
   ]
  },
  {
   "cell_type": "markdown",
   "metadata": {},
   "source": [
    "#### Code"
   ]
  },
  {
   "cell_type": "code",
   "execution_count": 13,
   "metadata": {},
   "outputs": [
    {
     "name": "stderr",
     "output_type": "stream",
     "text": [
      "C:\\Users\\U083682\\AppData\\Local\\Continuum\\anaconda3\\lib\\site-packages\\ipykernel_launcher.py:1: UserWarning: This pattern has match groups. To actually get the groups, use str.extract.\n",
      "  \"\"\"Entry point for launching an IPython kernel.\n",
      "C:\\Users\\U083682\\AppData\\Local\\Continuum\\anaconda3\\lib\\site-packages\\ipykernel_launcher.py:2: UserWarning: This pattern has match groups. To actually get the groups, use str.extract.\n",
      "  \n"
     ]
    }
   ],
   "source": [
    "df_clean= df_clean[~df_clean.cardholder_lname.str.contains('(\\d+)')] #drop numeric observations\n",
    "df_clean= df_clean[~df_clean.cardholder_finit.str.contains('(\\d+)')] #drop numeric observations\n",
    "df_clean= df_clean[~df_clean.cardholder_lname.str.contains('Cardholder')] #drop obervations consists Cardholder as cardholder name"
   ]
  },
  {
   "cell_type": "markdown",
   "metadata": {},
   "source": [
    "#### Test"
   ]
  },
  {
   "cell_type": "code",
   "execution_count": 14,
   "metadata": {},
   "outputs": [
    {
     "data": {
      "text/html": [
       "<div>\n",
       "<style scoped>\n",
       "    .dataframe tbody tr th:only-of-type {\n",
       "        vertical-align: middle;\n",
       "    }\n",
       "\n",
       "    .dataframe tbody tr th {\n",
       "        vertical-align: top;\n",
       "    }\n",
       "\n",
       "    .dataframe thead th {\n",
       "        text-align: right;\n",
       "    }\n",
       "</style>\n",
       "<table border=\"1\" class=\"dataframe\">\n",
       "  <thead>\n",
       "    <tr style=\"text-align: right;\">\n",
       "      <th></th>\n",
       "      <th>year_month</th>\n",
       "      <th>agency_number</th>\n",
       "      <th>agency_name</th>\n",
       "      <th>cardholder_lname</th>\n",
       "      <th>cardholder_finit</th>\n",
       "      <th>description</th>\n",
       "      <th>amount</th>\n",
       "      <th>vendor</th>\n",
       "      <th>transaction_date</th>\n",
       "      <th>posted_date</th>\n",
       "      <th>MCC</th>\n",
       "    </tr>\n",
       "  </thead>\n",
       "  <tbody>\n",
       "  </tbody>\n",
       "</table>\n",
       "</div>"
      ],
      "text/plain": [
       "Empty DataFrame\n",
       "Columns: [year_month, agency_number, agency_name, cardholder_lname, cardholder_finit, description, amount, vendor, transaction_date, posted_date, MCC]\n",
       "Index: []"
      ]
     },
     "execution_count": 14,
     "metadata": {},
     "output_type": "execute_result"
    }
   ],
   "source": [
    "df_clean[df_clean['cardholder_lname' ].str.contains('5')]"
   ]
  },
  {
   "cell_type": "code",
   "execution_count": 15,
   "metadata": {},
   "outputs": [
    {
     "data": {
      "text/html": [
       "<div>\n",
       "<style scoped>\n",
       "    .dataframe tbody tr th:only-of-type {\n",
       "        vertical-align: middle;\n",
       "    }\n",
       "\n",
       "    .dataframe tbody tr th {\n",
       "        vertical-align: top;\n",
       "    }\n",
       "\n",
       "    .dataframe thead th {\n",
       "        text-align: right;\n",
       "    }\n",
       "</style>\n",
       "<table border=\"1\" class=\"dataframe\">\n",
       "  <thead>\n",
       "    <tr style=\"text-align: right;\">\n",
       "      <th></th>\n",
       "      <th>year_month</th>\n",
       "      <th>agency_number</th>\n",
       "      <th>agency_name</th>\n",
       "      <th>cardholder_lname</th>\n",
       "      <th>cardholder_finit</th>\n",
       "      <th>description</th>\n",
       "      <th>amount</th>\n",
       "      <th>vendor</th>\n",
       "      <th>transaction_date</th>\n",
       "      <th>posted_date</th>\n",
       "      <th>MCC</th>\n",
       "    </tr>\n",
       "  </thead>\n",
       "  <tbody>\n",
       "  </tbody>\n",
       "</table>\n",
       "</div>"
      ],
      "text/plain": [
       "Empty DataFrame\n",
       "Columns: [year_month, agency_number, agency_name, cardholder_lname, cardholder_finit, description, amount, vendor, transaction_date, posted_date, MCC]\n",
       "Index: []"
      ]
     },
     "execution_count": 15,
     "metadata": {},
     "output_type": "execute_result"
    }
   ],
   "source": [
    "df_clean[df_clean['cardholder_lname' ].str.contains('Cardholder')]"
   ]
  },
  {
   "cell_type": "markdown",
   "metadata": {},
   "source": [
    "#### Define(3)\n",
    "\n",
    "There is no standartization for vendor column, observations which could be same meaning should be grouped.\n",
    "Firstly, numeric and \"#\" values are extracted from feature. And all observartions turned into lowercase to be standartized."
   ]
  },
  {
   "cell_type": "markdown",
   "metadata": {},
   "source": [
    "#### Code"
   ]
  },
  {
   "cell_type": "code",
   "execution_count": 16,
   "metadata": {},
   "outputs": [],
   "source": [
    "df_clean['vendor'] = df_clean['vendor'].str.replace('\\d+', '') ##extract numbers\n",
    "df_clean['vendor'] = df_clean['vendor'].str.replace('#', '')  ##extract '#'\n",
    "df_clean['vendor'] = df_clean['vendor'].str.replace('  ', ' ') #extract double spaces\n",
    "df_clean['vendor'] = df_clean['vendor'].map(lambda x: x if type(x)!=str else x.lower()) #do lowercase"
   ]
  },
  {
   "cell_type": "markdown",
   "metadata": {},
   "source": [
    "#### Test"
   ]
  },
  {
   "cell_type": "code",
   "execution_count": 17,
   "metadata": {},
   "outputs": [
    {
     "data": {
      "text/plain": [
       "staples                      14842\n",
       "amazon mktplace pmts         12197\n",
       "ww grainger                  12072\n",
       "american ai                  12015\n",
       "wal-mart                     11848\n",
       "amazon.com                   10766\n",
       "lowes                        10237\n",
       "fedex                         8164\n",
       "agent fee                     6161\n",
       "bill warren office produc     4479\n",
       "officemax ct in               4056\n",
       "southwes                      3982\n",
       "vwr international inc         3904\n",
       "united                        3298\n",
       "at&t bill payment             3064\n",
       "delta air                     2977\n",
       "oreilly auto                  2961\n",
       "staples                       2926\n",
       "airgas central                2653\n",
       "at&t data                     2622\n",
       "the home depot                2567\n",
       "fastenal company              2542\n",
       "mckesson medical supply       2491\n",
       "stapls                        2350\n",
       "dmi dell higher educ          2029\n",
       "okla resorts parks & golf     2012\n",
       "office depot                  1936\n",
       "wm supercenter                1880\n",
       "sigma aldrich us              1664\n",
       "staples direct                1450\n",
       "                             ...  \n",
       "national state geog in           1\n",
       "jason's deli q                   1\n",
       "nimlok online                    1\n",
       "journyhse  silvey                1\n",
       "western scientific co            1\n",
       "cargo equipment corporati        1\n",
       "tri c marketing                  1\n",
       "leeann chin bwi airp             1\n",
       "journyhse  steinekerr            1\n",
       "journyhse  darnell               1\n",
       "bubba gump shrimp co rest        1\n",
       "american fitness fit             1\n",
       "journyhse  akersd                1\n",
       "facebk uyghnc                    1\n",
       "assoc of medical school p        1\n",
       "heard museum guild               1\n",
       "future health concepts           1\n",
       "guardian repair & part           1\n",
       "journyhse  rood                  1\n",
       "aerling   el                     1\n",
       "hobart service                   1\n",
       "sq rockin' star farm             1\n",
       "sq allied                        1\n",
       "widgetworks unlimited            1\n",
       "the us grant a luxury col        1\n",
       "maintenance engineering          1\n",
       "san francisco bread co           1\n",
       "batteryquality.com               1\n",
       "push pedal pull-corporat         1\n",
       "journyhse  calverley             1\n",
       "Name: vendor, Length: 37070, dtype: int64"
      ]
     },
     "execution_count": 17,
     "metadata": {},
     "output_type": "execute_result"
    }
   ],
   "source": [
    "df_clean.vendor.value_counts()"
   ]
  },
  {
   "cell_type": "markdown",
   "metadata": {},
   "source": [
    "#### Define(4)\n",
    "\n",
    "There is no standartization for vendor column, observations which could be same meaning should be grouped.\n",
    "\n",
    "Top frequent vendor observations are investigated to find out their close matches with get_close_matches function."
   ]
  },
  {
   "cell_type": "code",
   "execution_count": 18,
   "metadata": {},
   "outputs": [
    {
     "name": "stdout",
     "output_type": "stream",
     "text": [
      "['amazon eu', 'amazon.com', 'amano', 'amazonlocal', 'gamago']\n",
      "['staples', 'stapls', 'staples    ', \"stahl's\", 'rust sales']\n",
      "['amazon mktplace pmts', 'amazon mktplce eu-uk', 'amazon mktplce eu-fr', 'amazon mktplce eu-de', 'amazon marketplce ca', 'claim adj/amazon mktplace', 'unm marketplace', 'unl marketplace', 'amazon prime', 'amazon payments']\n",
      "['ww grainger', 'claim adj/ww grainger', 'itw strapbinder', 'rainmaker', 'dp garage']\n",
      "['american ai ', 'american van', 'american inn', 'american cabins', 'american chic']\n",
      "['wal-mart ', 'mail-mart', 'wal-mart   se', 'walmart.com', 'walmart.com ', 'almark ent', 'weldingmart', 'vitalsmarts', 'max mart', 'i-market']\n",
      "['amazon eu', 'amazon.com', 'amano', 'amazonlocal', 'gamago']\n",
      "['lowes ', \"lowe's \", 'webs', \"louie's\", 'loex']\n",
      "['fedex ', 'gofedex  ', 'edge', 'nco fedex /', 'xpedx']\n",
      "['agent fee  ', 'egenfee ', 'gentec-eo', 'astm fees', 'abgent']\n",
      "['bill warren office produc', 'is - bill warren office p', 'millers office products i', 'cpi office products', 'classic office product']\n",
      "['officemax ct in', 'officemax ct', 'officemax ', 'office max', 'officemax manual', 'office timeline', 'office solutions']\n",
      "['southwes  ', 'hr southwest', 'southwest agri', 'suites', 'southeast id']\n",
      "['vwr international inc', 'drg international inc', 'wilcor international inc', 'ariat international inc', 'gei international inc']\n",
      "['united   ', 'munite ', ' unlimited', 'unitedscope', 'united toner']\n",
      "['at&t bill payment', 'att bill payment', 'att payment', 'claim adj/at&t bill payme', 'tms bills pavement mai']\n",
      "['delta air  ', 'idea art', 'del taco ', 'deborah blair', 'ta airsoft']\n",
      "['oreilly auto ', 'o reilly auto ', \"o'reilly media\", 'cordell beacon', 'pryor auto ']\n",
      "['staples', 'stapls', 'staples    ', \"stahl's\", 'rust sales']\n",
      "['airgas central', 'apac central ', 'claim adj/airgas central', 'ligas enter', 'geo central']\n",
      "['at&t data', 'at&t at ', 'at&t ', 'att atoka ok', 'at&t  ']\n",
      "['the home depot ', 'the feed depot', 'the lab depot', 'claim adj/the home depot', 'the sign depot']\n",
      "['fastenal company', 'austin cab company', 'casad company', 'gjp fast company', 'fei company']\n",
      "['mckesson medical supply', 'mckesson medical surgical', 'dimensions medical supply', 'armstrong medical supply', 'western medical supply']\n",
      "['stapls', 'staples', \"stahl's\", 'talas', 'staples    ']\n",
      "['dmi dell higher educ', 'inside higher ed', 'dmi dell arb bus', 'claim adj/dmi dell highe', 'eb higher education s']\n",
      "['okla resorts parks & golf', 'gilbert mowers & golf', 'arena sports bar and gril']\n",
      "['office depot', 'office depot ', 'office pro', 'tcl lp/office depot', 'paypal officedepot']\n",
      "['wm supercenter ', 'map service center', 'tom steed center', 'sprint center', 'dry clean super center']\n",
      "['sigma aldrich us', 'claim adj/sigma aldrich u', 'animal health usa']\n",
      "['staples direct', 'cables direct', 'paper direct', 'acp direct', 'supply direct']\n",
      "['ecosure', 'ucea', 'reea', 'eeda']\n"
     ]
    }
   ],
   "source": [
    "print(get_close_matches('amazon', df_clean.vendor.unique(), 5))\n",
    "print(get_close_matches('staples', df_clean.vendor.unique(), 5))\n",
    "print(get_close_matches('amazon mktplace', df_clean.vendor.unique(), 10))\n",
    "print(get_close_matches('ww grainger', df_clean.vendor.unique(), 5))\n",
    "print(get_close_matches('american ai', df_clean.vendor.unique(), 5))\n",
    "print(get_close_matches('wal-mart', df_clean.vendor.unique(), 10))\n",
    "print(get_close_matches('amazon', df_clean.vendor.unique(), 5))\n",
    "print(get_close_matches('lowes', df_clean.vendor.unique(), 5))\n",
    "print(get_close_matches('fedex', df_clean.vendor.unique(), 8))\n",
    "print(get_close_matches('agent fee', df_clean.vendor.unique(), 5))\n",
    "print(get_close_matches('bill warren office produc', df_clean.vendor.unique(), 5))\n",
    "print(get_close_matches('officemax ct in', df_clean.vendor.unique(), 7))\n",
    "print(get_close_matches('southwes', df_clean.vendor.unique(), 5))\n",
    "print(get_close_matches('vwr international inc', df_clean.vendor.unique(), 5))\n",
    "print(get_close_matches('united', df_clean.vendor.unique(), 5))\n",
    "print(get_close_matches('at&t bill payment', df_clean.vendor.unique(), 5))\n",
    "print(get_close_matches('delta air', df_clean.vendor.unique(), 5))\n",
    "print(get_close_matches('oreilly auto', df_clean.vendor.unique(), 5))\n",
    "print(get_close_matches('staples', df_clean.vendor.unique(), 5))\n",
    "print(get_close_matches('airgas central', df_clean.vendor.unique(), 5))\n",
    "print(get_close_matches('at&t data', df_clean.vendor.unique(), 5))\n",
    "print(get_close_matches('the home depot', df_clean.vendor.unique(), 5))\n",
    "print(get_close_matches('fastenal company', df_clean.vendor.unique(), 5))\n",
    "print(get_close_matches('mckesson medical supply', df_clean.vendor.unique(), 5))\n",
    "print(get_close_matches('stapls', df_clean.vendor.unique(), 5))\n",
    "print(get_close_matches('dmi dell higher educ', df_clean.vendor.unique(), 5))\n",
    "print(get_close_matches('okla resorts parks & golf', df_clean.vendor.unique(), 5))\n",
    "print(get_close_matches('office depot', df_clean.vendor.unique(), 5))\n",
    "print(get_close_matches('wm supercenter', df_clean.vendor.unique(), 5))\n",
    "print(get_close_matches('sigma aldrich us', df_clean.vendor.unique(), 5))\n",
    "print(get_close_matches('staples direct', df_clean.vendor.unique(), 5))\n",
    "print(get_close_matches('eureka', df_clean.vendor.unique(), 5))"
   ]
  },
  {
   "cell_type": "markdown",
   "metadata": {},
   "source": [
    "#### Code"
   ]
  },
  {
   "cell_type": "code",
   "execution_count": 19,
   "metadata": {},
   "outputs": [],
   "source": [
    "amazon = ['amazon eu', 'amazon.com', 'amazon', 'amazonlocal']\n",
    "\n",
    "ATT = ['att','att%t', 'at&t' , 'at&t data', 'at&t at ', 'at&t ', 'att atoka ok', 'at&t  ',\n",
    "      'at&t bill payment', 'att bill payment', 'att payment', 'claim adj/at&t bill payme']\n",
    "wallmart = ['wal-mart ', 'mail-mart', 'wal-mart   se', 'walmart.com', 'walmart.com ' 'wall-mart' ]\n",
    "staples = ['staples', 'stapls', 'staples    ', 'staples direct',\n",
    "          'stapls', 'staples','staples    ']\n",
    "lowes = ['lowes ', \"lowe's \",\"louie's\", 'lowes']\n",
    "fedex = ['fedex ', 'gofedex  ', 'fedex', 'nco fedex /']\n",
    "grainger = ['ww grainger', 'grainger', 'ww grainger', 'claim adj/ww grainger']\n",
    "warren = ['bill warren office produc', 'bill', 'warren',  'is - bill warren office p']\n",
    "dell = ['dmi dell higher educ',  'dmi dell arb bus', 'claim adj/dmi dell highe','dell']\n",
    "airgas = ['airgas','airgas central','claim adj/airgas central', 'airgas central']\n",
    "fastenal = ['fastenal company', 'fastenal']\n",
    "VWR = ['vwr international inc', 'vwr']\n",
    "TFS = ['tfs', 'fisher', 'FISHER']\n",
    "eureka = ['eureka']\n",
    "mckesson =['mckesson medical supply', 'mckesson', 'mckesson medical surgical']\n",
    "\n",
    "\n",
    "amazonmarketplace = ['amazon mktplace pmts', 'amazon mktplce eu-uk', 'amazon mktplce eu-fr', \n",
    "                     'amazon mktplce eu-de', 'amazon marketplce ca', 'claim adj/amazon mktplace',\n",
    "                    'amazon mktplace pmts ', 'amazon mktplace']\n",
    "                     \n",
    "officemax = ['officemax ct in', 'officemax', 'officemax ct in', 'officemax ct', \n",
    "             'officemax ', 'office max', 'officemax manual', 'office timeline', 'office solutions']\n",
    "new_vendor = []\n",
    "\n",
    "for vendor in df_clean['vendor']:\n",
    "    # Amazon\n",
    "    if any(map(lambda v:v in amazon, str(vendor).split())):\n",
    "        new_vendor.append('amazon')\n",
    "    # ATT\n",
    "    elif any(map(lambda v:v in ATT, str(vendor).split())):\n",
    "        new_vendor.append('ATT')\n",
    "    # wallmart\n",
    "    elif any(map(lambda v:v in wallmart, str(vendor).split())):\n",
    "        new_vendor.append('wallmart')\n",
    "    # staples\n",
    "    elif any(map(lambda v:v in staples, str(vendor).split())):\n",
    "        new_vendor.append('staples')\n",
    "    # lowes\n",
    "    elif any(map(lambda v:v in lowes, str(vendor).split())):\n",
    "        new_vendor.append('lowes')\n",
    "    # fedex\n",
    "    elif any(map(lambda v:v in fedex, str(vendor).split())):\n",
    "        new_vendor.append('fedex')\n",
    "    # grainger\n",
    "    elif any(map(lambda v:v in grainger, str(vendor).split())):\n",
    "        new_vendor.append('grainger')\n",
    "    # warren\n",
    "    elif any(map(lambda v:v in warren, str(vendor).split())):\n",
    "        new_vendor.append('warren')\n",
    "    # dell\n",
    "    elif any(map(lambda v:v in dell, str(vendor).split())):\n",
    "        new_vendor.append('dell')\n",
    "    # airgas\n",
    "    elif any(map(lambda v:v in airgas, str(vendor).split())):\n",
    "        new_vendor.append('airgas')\n",
    "        \n",
    "    # fastenal\n",
    "    elif any(map(lambda v:v in fastenal, str(vendor).split())):\n",
    "        new_vendor.append('fastenal')\n",
    "        \n",
    "    # VWR\n",
    "    elif any(map(lambda v:v in VWR, str(vendor).split())):\n",
    "        new_vendor.append('VWR')\n",
    "        \n",
    "    # TFS\n",
    "    elif any(map(lambda v:v in TFS, str(vendor).split())):\n",
    "        new_vendor.append('TFS')\n",
    "\n",
    "    # eureka\n",
    "    elif any(map(lambda v:v in eureka, str(vendor).split())):\n",
    "        new_vendor.append('eureka')\n",
    "    # mckesson\n",
    "    elif any(map(lambda v:v in mckesson, str(vendor).split())):\n",
    "        new_vendor.append('mckesson')\n",
    "\n",
    "    # amazonmarketplace\n",
    "    elif any(map(lambda v:v in amazonmarketplace, str(vendor).split())):\n",
    "        new_vendor.append('amazonmarketplace')\n",
    "                  \n",
    "    # officemax\n",
    "    elif any(map(lambda v:v in officemax, str(vendor).split())):\n",
    "        new_vendor.append('officemax')\n",
    "                  \n",
    "                  \n",
    "    # If group or not specified\n",
    "    else:\n",
    "        new_vendor.append(vendor)\n",
    "        \n",
    "df_clean['new_vendor'] = new_vendor"
   ]
  },
  {
   "cell_type": "markdown",
   "metadata": {},
   "source": [
    "#### Test"
   ]
  },
  {
   "cell_type": "code",
   "execution_count": 20,
   "metadata": {},
   "outputs": [
    {
     "data": {
      "text/plain": [
       "86729"
      ]
     },
     "execution_count": 20,
     "metadata": {},
     "output_type": "execute_result"
    }
   ],
   "source": [
    "df.Vendor.nunique()"
   ]
  },
  {
   "cell_type": "code",
   "execution_count": 21,
   "metadata": {},
   "outputs": [
    {
     "data": {
      "text/plain": [
       "36909"
      ]
     },
     "execution_count": 21,
     "metadata": {},
     "output_type": "execute_result"
    }
   ],
   "source": [
    "df_clean.new_vendor.nunique()"
   ]
  },
  {
   "cell_type": "code",
   "execution_count": 22,
   "metadata": {},
   "outputs": [
    {
     "data": {
      "text/plain": [
       "amazon                       23583\n",
       "staples                      22360\n",
       "grainger                     12074\n",
       "american ai                  12015\n",
       "wal-mart                     11848\n",
       "lowes                        10239\n",
       "ATT                           8860\n",
       "fedex                         8218\n",
       "agent fee                     6161\n",
       "warren                        4638\n",
       "officemax                     4077\n",
       "southwes                      3982\n",
       "VWR                           3904\n",
       "TFS                           3854\n",
       "dell                          3477\n",
       "united                        3298\n",
       "delta air                     2977\n",
       "oreilly auto                  2961\n",
       "airgas                        2670\n",
       "mckesson                      2633\n",
       "the home depot                2567\n",
       "fastenal                      2542\n",
       "okla resorts parks & golf     2012\n",
       "office depot                  1936\n",
       "wm supercenter                1880\n",
       "sigma aldrich us              1664\n",
       "hobby-lobby                   1432\n",
       "eureka                        1354\n",
       "south central industries      1338\n",
       "msc                           1327\n",
       "                             ...  \n",
       "sq meadowlake ranch              1\n",
       "indian harvest                   1\n",
       "nafco-inc.                       1\n",
       "ez animal products               1\n",
       "customonit.com                   1\n",
       "southern ag-owasso               1\n",
       "facebook xcbwb                   1\n",
       "thunderpower megaphone           1\n",
       "act uw ccer workshop             1\n",
       "amalia hotel                     1\n",
       "sq rockin' star farm             1\n",
       "sq allied                        1\n",
       "widgetworks unlimited            1\n",
       "the us grant a luxury col        1\n",
       "maintenance engineering          1\n",
       "san francisco bread co           1\n",
       "batteryquality.com               1\n",
       "push pedal pull-corporat         1\n",
       "journyhse  darnell               1\n",
       "journyhse  steinekerr            1\n",
       "leeann chin bwi airp             1\n",
       "tri c marketing                  1\n",
       "journyhse  vangroeni             1\n",
       "brooklynbatt.com of              1\n",
       "nat'l wwii ticket/str            1\n",
       "dbc newsweek daily beast         1\n",
       "john bruce electric              1\n",
       "flash and dash                   1\n",
       "choctaw wilburton                1\n",
       "journyhse  leof                  1\n",
       "Name: new_vendor, Length: 36909, dtype: int64"
      ]
     },
     "execution_count": 22,
     "metadata": {},
     "output_type": "execute_result"
    }
   ],
   "source": [
    "df_clean.new_vendor.value_counts()"
   ]
  },
  {
   "cell_type": "markdown",
   "metadata": {},
   "source": [
    "### Export data set"
   ]
  },
  {
   "cell_type": "markdown",
   "metadata": {},
   "source": [
    "df_clean file includes the cleaned version of dataset."
   ]
  },
  {
   "cell_type": "code",
   "execution_count": null,
   "metadata": {},
   "outputs": [],
   "source": [
    "df_clean.to_csv('df_clean.csv', index=False, encoding = 'utf-8')"
   ]
  },
  {
   "cell_type": "code",
   "execution_count": 23,
   "metadata": {},
   "outputs": [
    {
     "name": "stdout",
     "output_type": "stream",
     "text": [
      "<class 'pandas.core.frame.DataFrame'>\n",
      "RangeIndex: 440763 entries, 0 to 440762\n",
      "Data columns (total 12 columns):\n",
      "year_month          440763 non-null int64\n",
      "agency_number       440763 non-null int64\n",
      "agency_name         440763 non-null object\n",
      "cardholder_lname    440763 non-null object\n",
      "cardholder_finit    440763 non-null object\n",
      "description         440763 non-null object\n",
      "amount              440763 non-null float64\n",
      "vendor              440751 non-null object\n",
      "transaction_date    440763 non-null object\n",
      "posted_date         440763 non-null object\n",
      "MCC                 440763 non-null object\n",
      "new_vendor          440751 non-null object\n",
      "dtypes: float64(1), int64(2), object(9)\n",
      "memory usage: 40.4+ MB\n"
     ]
    }
   ],
   "source": [
    "df_clean = pd.read_csv('df_clean.csv')\n",
    "df_clean.info()"
   ]
  },
  {
   "cell_type": "markdown",
   "metadata": {},
   "source": [
    "<a id='exporatory'></a>\n",
    "# Exploratory Data Analysis\n",
    "\n",
    "This section includes computation and visualization of the following statistics on the data:\n",
    "\n",
    "a. The overall distribution of the amounts as a histogram\n",
    "\n",
    "b. The top-k users based on their monthly spending\n",
    "\n",
    "c. The top-k most popular vendors by the number of transactions per quarter\n",
    "(Assume the Quarter starts in July)\n",
    "\n",
    "d. The top-k highest categories by the sum of amounts\n",
    "\n",
    "\n",
    "Before dive into analysis, outlier elimination of amount column should been done."
   ]
  },
  {
   "cell_type": "markdown",
   "metadata": {},
   "source": [
    "## a. The overall distribution of the amounts as a histogram"
   ]
  },
  {
   "cell_type": "code",
   "execution_count": 24,
   "metadata": {},
   "outputs": [],
   "source": [
    "Q1 = df_clean.amount.quantile(0.25)\n",
    "Q3 = df_clean.amount.quantile(0.75)\n",
    "IQR = Q3 - Q1"
   ]
  },
  {
   "cell_type": "code",
   "execution_count": 25,
   "metadata": {},
   "outputs": [
    {
     "name": "stdout",
     "output_type": "stream",
     "text": [
      "-435.1049999999999\n",
      "807.0949999999999\n"
     ]
    }
   ],
   "source": [
    "print(Q1 - 1.5 * IQR)\n",
    "print(Q3 + 1.5 * IQR)"
   ]
  },
  {
   "cell_type": "markdown",
   "metadata": {},
   "source": [
    "df_clean table needs to be cleaned from outliers; therefore, df_analysis datarframe created with following code."
   ]
  },
  {
   "cell_type": "code",
   "execution_count": 26,
   "metadata": {},
   "outputs": [
    {
     "data": {
      "text/html": [
       "<div>\n",
       "<style scoped>\n",
       "    .dataframe tbody tr th:only-of-type {\n",
       "        vertical-align: middle;\n",
       "    }\n",
       "\n",
       "    .dataframe tbody tr th {\n",
       "        vertical-align: top;\n",
       "    }\n",
       "\n",
       "    .dataframe thead th {\n",
       "        text-align: right;\n",
       "    }\n",
       "</style>\n",
       "<table border=\"1\" class=\"dataframe\">\n",
       "  <thead>\n",
       "    <tr style=\"text-align: right;\">\n",
       "      <th></th>\n",
       "      <th>count</th>\n",
       "      <th>mean</th>\n",
       "      <th>std</th>\n",
       "      <th>min</th>\n",
       "      <th>25%</th>\n",
       "      <th>50%</th>\n",
       "      <th>75%</th>\n",
       "      <th>max</th>\n",
       "    </tr>\n",
       "  </thead>\n",
       "  <tbody>\n",
       "    <tr>\n",
       "      <th>year_month</th>\n",
       "      <td>394898.0</td>\n",
       "      <td>201357.195015</td>\n",
       "      <td>47.102088</td>\n",
       "      <td>201307.0</td>\n",
       "      <td>201309.00</td>\n",
       "      <td>201401.00</td>\n",
       "      <td>201404.0</td>\n",
       "      <td>201406.00</td>\n",
       "    </tr>\n",
       "    <tr>\n",
       "      <th>agency_number</th>\n",
       "      <td>394898.0</td>\n",
       "      <td>42655.574351</td>\n",
       "      <td>33304.790292</td>\n",
       "      <td>1000.0</td>\n",
       "      <td>1000.00</td>\n",
       "      <td>47700.00</td>\n",
       "      <td>76000.0</td>\n",
       "      <td>98000.00</td>\n",
       "    </tr>\n",
       "    <tr>\n",
       "      <th>amount</th>\n",
       "      <td>394898.0</td>\n",
       "      <td>162.051970</td>\n",
       "      <td>189.916074</td>\n",
       "      <td>-435.0</td>\n",
       "      <td>27.93</td>\n",
       "      <td>85.61</td>\n",
       "      <td>240.0</td>\n",
       "      <td>807.02</td>\n",
       "    </tr>\n",
       "  </tbody>\n",
       "</table>\n",
       "</div>"
      ],
      "text/plain": [
       "                  count           mean           std       min        25%  \\\n",
       "year_month     394898.0  201357.195015     47.102088  201307.0  201309.00   \n",
       "agency_number  394898.0   42655.574351  33304.790292    1000.0    1000.00   \n",
       "amount         394898.0     162.051970    189.916074    -435.0      27.93   \n",
       "\n",
       "                     50%       75%        max  \n",
       "year_month     201401.00  201404.0  201406.00  \n",
       "agency_number   47700.00   76000.0   98000.00  \n",
       "amount             85.61     240.0     807.02  "
      ]
     },
     "execution_count": 26,
     "metadata": {},
     "output_type": "execute_result"
    }
   ],
   "source": [
    "df_analysis = df_clean.loc[(df_clean['amount'] > (Q1 - 1.5 * IQR) ) & (df_clean['amount'] < (Q3 + 1.5 * IQR))]\n",
    "df_analysis.describe().transpose()"
   ]
  },
  {
   "cell_type": "code",
   "execution_count": 27,
   "metadata": {},
   "outputs": [
    {
     "data": {
      "image/png": "[encoded data removed]",
      "text/plain": [
       "<Figure size 432x288 with 1 Axes>"
      ]
     },
     "metadata": {},
     "output_type": "display_data"
    }
   ],
   "source": [
    "nbins = 100\n",
    "xmin = Q1 - 1.5 * IQR\n",
    "xmax = Q3 + 1.5 * IQR\n",
    "\n",
    "fig = plt.figure(); \n",
    "ax = fig.add_subplot(1, 1, 1)\n",
    "ax.hist(df_clean.amount, bins=nbins,range=[xmin,xmax])  \n",
    "plt.show()"
   ]
  },
  {
   "cell_type": "markdown",
   "metadata": {},
   "source": [
    "## b. The top-5 users based on their monthly spending\n",
    "\n",
    "To find out top-5 users based on monthly spending, firstly customer's transaction amount should be summed month by month. Then monthly average should be calculated. "
   ]
  },
  {
   "cell_type": "code",
   "execution_count": 28,
   "metadata": {},
   "outputs": [
    {
     "data": {
      "text/plain": [
       "cardholder_lname  cardholder_finit\n",
       "Jordan            J                   800.40\n",
       "Howk              B                   750.36\n",
       "Shell             C                   750.00\n",
       "Russell           S                   725.39\n",
       "Kropp             B                   684.08\n",
       "Name: amount, dtype: float64"
      ]
     },
     "execution_count": 28,
     "metadata": {},
     "output_type": "execute_result"
    }
   ],
   "source": [
    "df_amount = df_analysis.groupby(['year_month','cardholder_lname', 'cardholder_finit'])['amount'].agg('sum')\n",
    "amount_mean = pd.DataFrame(df_amount).reset_index()\n",
    "amount_mean.columns = ['year_month','cardholder_lname', 'cardholder_finit', 'amount']\n",
    "df_amount_mean = df_analysis.groupby(['cardholder_lname', 'cardholder_finit'])['amount'].agg('mean')\n",
    "\n",
    "df_amount_mean.nlargest(5)"
   ]
  },
  {
   "cell_type": "markdown",
   "metadata": {},
   "source": [
    "It can be seen that Jordan J has 800.40 transaction amount whihc is the highest monthly average transaction."
   ]
  },
  {
   "cell_type": "markdown",
   "metadata": {},
   "source": [
    "## c. The top-5 most popular vendors by the number of transactions per quarter\n",
    "(Assume the Quarter starts in July)\n",
    "\n",
    "To find out most popular vendors, firstly quarter information should be created. Then number of trensaction per vendor should be calculted quarterly. After that average transaction count should be calculated for each vendor."
   ]
  },
  {
   "cell_type": "markdown",
   "metadata": {},
   "source": [
    "Following code helps to assing quarter information"
   ]
  },
  {
   "cell_type": "code",
   "execution_count": 29,
   "metadata": {},
   "outputs": [
    {
     "name": "stderr",
     "output_type": "stream",
     "text": [
      "C:\\Users\\U083682\\AppData\\Local\\Continuum\\anaconda3\\lib\\site-packages\\ipykernel_launcher.py:11: SettingWithCopyWarning: \n",
      "A value is trying to be set on a copy of a slice from a DataFrame.\n",
      "Try using .loc[row_indexer,col_indexer] = value instead\n",
      "\n",
      "See the caveats in the documentation: http://pandas.pydata.org/pandas-docs/stable/indexing.html#indexing-view-versus-copy\n",
      "  # This is added back by InteractiveShellApp.init_path()\n"
     ]
    }
   ],
   "source": [
    "def func(row):\n",
    "    if row['year_month'] in range(201307, 201311):\n",
    "        return 'Q1'\n",
    "    elif row['year_month'] in range(201311, 201403):\n",
    "        return 'Q2' \n",
    "    elif row['year_month'] in range(201403, 201407):\n",
    "        return 'Q3' \n",
    "    else:\n",
    "        return 'other'\n",
    "\n",
    "df_analysis['quarter'] = df_analysis.apply(func, axis=1)"
   ]
  },
  {
   "cell_type": "markdown",
   "metadata": {},
   "source": [
    "Code is checked in the following."
   ]
  },
  {
   "cell_type": "code",
   "execution_count": 30,
   "metadata": {},
   "outputs": [
    {
     "data": {
      "text/plain": [
       "year_month  quarter\n",
       "201307      Q1         33516\n",
       "201308      Q1         35084\n",
       "201309      Q1         34664\n",
       "201310      Q1         36241\n",
       "201311      Q2         30766\n",
       "201312      Q2         23954\n",
       "201401      Q2         33479\n",
       "201402      Q2         32245\n",
       "201403      Q3         33973\n",
       "201404      Q3         34877\n",
       "201405      Q3         32637\n",
       "201406      Q3         33462\n",
       "Name: amount, dtype: int64"
      ]
     },
     "execution_count": 30,
     "metadata": {},
     "output_type": "execute_result"
    }
   ],
   "source": [
    "df_grouped_check = df_analysis.groupby(['year_month','quarter'])['amount'].count()\n",
    "df_grouped_check"
   ]
  },
  {
   "cell_type": "code",
   "execution_count": 31,
   "metadata": {},
   "outputs": [
    {
     "data": {
      "text/plain": [
       "new_vendor\n",
       "amazon          7701.666667\n",
       "staples         7273.333333\n",
       "wal-mart        3924.666667\n",
       "american ai     3522.000000\n",
       "grainger        3515.666667\n",
       "Name: count, dtype: float64"
      ]
     },
     "execution_count": 31,
     "metadata": {},
     "output_type": "execute_result"
    }
   ],
   "source": [
    "df_quarter = df_analysis.groupby(['quarter','new_vendor' ])['amount'].agg('count')\n",
    "df_quarter_mean = pd.DataFrame(df_quarter).reset_index()\n",
    "df_quarter_mean.columns = ['quarter','new_vendor', 'count']\n",
    "df_quarter_mean2 = df_quarter_mean.groupby(['new_vendor'])['count'].agg('mean')\n",
    "\n",
    "df_quarter_mean2.nlargest(5)"
   ]
  },
  {
   "cell_type": "markdown",
   "metadata": {},
   "source": [
    "It can be seen that most popular vendor is amazon which has average 7K transaction quarterly"
   ]
  },
  {
   "cell_type": "markdown",
   "metadata": {},
   "source": [
    "## d. The top-5 highest categories by the sum of amounts\n",
    "\n"
   ]
  },
  {
   "cell_type": "code",
   "execution_count": 32,
   "metadata": {},
   "outputs": [
    {
     "data": {
      "text/plain": [
       "MCC\n",
       "AMERICAN AIRLINES                                          4568956.37\n",
       "DENTAL/LABORATORY/MEDICAL/OPHTHALMIC HOSP EQIP AND SUP.    3852242.35\n",
       "INDUSTRIAL SUPPLIES NOT ELSEWHERE CLASSIFIED               3518863.62\n",
       "STATIONERY, OFFICE SUPPLIES, PRINTING AND WRITING PAPER    2818887.57\n",
       "BOOK STORES                                                2014757.24\n",
       "Name: amount, dtype: float64"
      ]
     },
     "execution_count": 32,
     "metadata": {},
     "output_type": "execute_result"
    }
   ],
   "source": [
    "df_analysis.groupby(['MCC'])['amount'].sum().nlargest(5)"
   ]
  },
  {
   "cell_type": "markdown",
   "metadata": {},
   "source": [
    "American airlines has the highest transaction amount in total. Hospital equipment, industrial supplies, office supplies and book stores follow it respectively. "
   ]
  },
  {
   "cell_type": "markdown",
   "metadata": {},
   "source": [
    "### Export\n",
    "\n",
    "df_analysis cleaned from outliers and it has newly added 'quarter ' information."
   ]
  },
  {
   "cell_type": "code",
   "execution_count": null,
   "metadata": {},
   "outputs": [],
   "source": [
    "df_analysis.to_csv('df_analysis.csv', index=False, encoding = 'utf-8')"
   ]
  },
  {
   "cell_type": "code",
   "execution_count": 33,
   "metadata": {},
   "outputs": [
    {
     "name": "stdout",
     "output_type": "stream",
     "text": [
      "<class 'pandas.core.frame.DataFrame'>\n",
      "RangeIndex: 394898 entries, 0 to 394897\n",
      "Data columns (total 13 columns):\n",
      "year_month          394898 non-null int64\n",
      "agency_number       394898 non-null int64\n",
      "agency_name         394898 non-null object\n",
      "cardholder_lname    394898 non-null object\n",
      "cardholder_finit    394898 non-null object\n",
      "description         394898 non-null object\n",
      "amount              394898 non-null float64\n",
      "vendor              394887 non-null object\n",
      "transaction_date    394898 non-null object\n",
      "posted_date         394898 non-null object\n",
      "MCC                 394898 non-null object\n",
      "new_vendor          394887 non-null object\n",
      "quarter             394898 non-null object\n",
      "dtypes: float64(1), int64(2), object(10)\n",
      "memory usage: 39.2+ MB\n"
     ]
    }
   ],
   "source": [
    "df_analysis = pd.read_csv('df_analysis.csv')\n",
    "df_analysis.info()"
   ]
  },
  {
   "cell_type": "markdown",
   "metadata": {},
   "source": [
    "<a id='segment'></a>\n",
    "# Customer Segmentation\n",
    "\n",
    "The credit card company needs your help to identify them certain customer segments\n",
    "\n",
    "\n",
    "a. Based on their activity (Customer activity is defined as the number of\n",
    "transactions performed by the user)\n",
    "\n",
    "b. Based on their spend\n",
    "\n",
    "c. Based on the number of unique merchants\n",
    "\n",
    "From a business perspective, suggest a strategy to target these segments"
   ]
  },
  {
   "cell_type": "markdown",
   "metadata": {},
   "source": [
    "Before starting this analysis, customer based table should be created and required features should be developed. "
   ]
  },
  {
   "cell_type": "markdown",
   "metadata": {},
   "source": [
    "Customers' total transaction amount information is created."
   ]
  },
  {
   "cell_type": "code",
   "execution_count": 34,
   "metadata": {},
   "outputs": [],
   "source": [
    "df_sumamount = df_analysis.groupby(['cardholder_lname', 'cardholder_finit'])['amount'].agg('sum')"
   ]
  },
  {
   "cell_type": "code",
   "execution_count": 35,
   "metadata": {},
   "outputs": [],
   "source": [
    "df_uniq_cust = pd.DataFrame(df_sumamount).reset_index()\n",
    "df_uniq_cust.columns = ['cardholder_lname', 'cardholder_finit', 'sum_amounts']"
   ]
  },
  {
   "cell_type": "code",
   "execution_count": 36,
   "metadata": {},
   "outputs": [
    {
     "data": {
      "text/html": [
       "<div>\n",
       "<style scoped>\n",
       "    .dataframe tbody tr th:only-of-type {\n",
       "        vertical-align: middle;\n",
       "    }\n",
       "\n",
       "    .dataframe tbody tr th {\n",
       "        vertical-align: top;\n",
       "    }\n",
       "\n",
       "    .dataframe thead th {\n",
       "        text-align: right;\n",
       "    }\n",
       "</style>\n",
       "<table border=\"1\" class=\"dataframe\">\n",
       "  <thead>\n",
       "    <tr style=\"text-align: right;\">\n",
       "      <th></th>\n",
       "      <th>cardholder_lname</th>\n",
       "      <th>cardholder_finit</th>\n",
       "      <th>sum_amounts</th>\n",
       "    </tr>\n",
       "  </thead>\n",
       "  <tbody>\n",
       "    <tr>\n",
       "      <th>0</th>\n",
       "      <td>AARON</td>\n",
       "      <td>B</td>\n",
       "      <td>500.00</td>\n",
       "    </tr>\n",
       "    <tr>\n",
       "      <th>1</th>\n",
       "      <td>ACREE</td>\n",
       "      <td>T</td>\n",
       "      <td>12625.00</td>\n",
       "    </tr>\n",
       "    <tr>\n",
       "      <th>2</th>\n",
       "      <td>ADAMS</td>\n",
       "      <td>C</td>\n",
       "      <td>1054.71</td>\n",
       "    </tr>\n",
       "    <tr>\n",
       "      <th>3</th>\n",
       "      <td>ADAMS</td>\n",
       "      <td>K</td>\n",
       "      <td>8067.13</td>\n",
       "    </tr>\n",
       "    <tr>\n",
       "      <th>4</th>\n",
       "      <td>ADAMS</td>\n",
       "      <td>S</td>\n",
       "      <td>2937.56</td>\n",
       "    </tr>\n",
       "  </tbody>\n",
       "</table>\n",
       "</div>"
      ],
      "text/plain": [
       "  cardholder_lname cardholder_finit  sum_amounts\n",
       "0            AARON                B       500.00\n",
       "1            ACREE                T     12625.00\n",
       "2            ADAMS                C      1054.71\n",
       "3            ADAMS                K      8067.13\n",
       "4            ADAMS                S      2937.56"
      ]
     },
     "execution_count": 36,
     "metadata": {},
     "output_type": "execute_result"
    }
   ],
   "source": [
    "df_uniq_cust.head()"
   ]
  },
  {
   "cell_type": "markdown",
   "metadata": {},
   "source": [
    "Customers' transaction count has been calculated."
   ]
  },
  {
   "cell_type": "code",
   "execution_count": 37,
   "metadata": {},
   "outputs": [
    {
     "data": {
      "text/plain": [
       "cardholder_lname       cardholder_finit\n",
       "AARON                  B                     2\n",
       "ACREE                  T                    78\n",
       "ADAMS                  C                    23\n",
       "                       K                    68\n",
       "                       S                    31\n",
       "ADE                    D                    56\n",
       "ADKINS                 M                     1\n",
       "ADMIRE                 A                    95\n",
       "ADUDDELL               D                    10\n",
       "AGNELLI                M                   141\n",
       "AKBARAN                B                     1\n",
       "ALEXANDER              D                    56\n",
       "ALFORD                 R                    53\n",
       "ALINGER                D                   491\n",
       "ALL ABOUT TRAVEL       G                   325\n",
       "ALL ABOUT TRAVEL LTD.  G                   106\n",
       "ALLEE-FOREMAN          K                    14\n",
       "ALLEN                  C                   103\n",
       "                       S                   431\n",
       "                       T                    10\n",
       "Name: amount, dtype: int64"
      ]
     },
     "execution_count": 37,
     "metadata": {},
     "output_type": "execute_result"
    }
   ],
   "source": [
    "df_transaction_count = df_analysis.groupby(['cardholder_lname','cardholder_finit'])['amount'].count()\n",
    "df_transaction_count.head(20)"
   ]
  },
  {
   "cell_type": "code",
   "execution_count": 38,
   "metadata": {},
   "outputs": [],
   "source": [
    "df_transaction_count = pd.DataFrame(df_transaction_count).reset_index()\n",
    "df_transaction_count.columns = ['cardholder_lname', 'cardholder_finit', 'transaction_count']"
   ]
  },
  {
   "cell_type": "markdown",
   "metadata": {},
   "source": [
    "Customers' transaction count is calculated in terms of mcc code."
   ]
  },
  {
   "cell_type": "code",
   "execution_count": 39,
   "metadata": {},
   "outputs": [
    {
     "data": {
      "text/plain": [
       "cardholder_lname       cardholder_finit\n",
       "AARON                  B                    1\n",
       "ACREE                  T                   13\n",
       "ADAMS                  C                    6\n",
       "                       K                   19\n",
       "                       S                    8\n",
       "ADE                    D                   12\n",
       "ADKINS                 M                    1\n",
       "ADMIRE                 A                    9\n",
       "ADUDDELL               D                    4\n",
       "AGNELLI                M                   14\n",
       "AKBARAN                B                    1\n",
       "ALEXANDER              D                   18\n",
       "ALFORD                 R                    9\n",
       "ALINGER                D                   35\n",
       "ALL ABOUT TRAVEL       G                   16\n",
       "ALL ABOUT TRAVEL LTD.  G                    5\n",
       "ALLEE-FOREMAN          K                    9\n",
       "ALLEN                  C                   18\n",
       "                       S                   33\n",
       "                       T                    5\n",
       "Name: MCC, dtype: int64"
      ]
     },
     "execution_count": 39,
     "metadata": {},
     "output_type": "execute_result"
    }
   ],
   "source": [
    "mcc_unique_count = df_analysis.groupby(['cardholder_lname','cardholder_finit'])['MCC'].nunique()\n",
    "mcc_unique_count .head(20)"
   ]
  },
  {
   "cell_type": "code",
   "execution_count": 40,
   "metadata": {},
   "outputs": [],
   "source": [
    "mcc_unique_count = pd.DataFrame(mcc_unique_count).reset_index()\n",
    "mcc_unique_count.columns = ['cardholder_lname', 'cardholder_finit', 'mcc_unique_count']"
   ]
  },
  {
   "cell_type": "markdown",
   "metadata": {},
   "source": [
    "Customers' average transaction count is prepared."
   ]
  },
  {
   "cell_type": "code",
   "execution_count": 41,
   "metadata": {},
   "outputs": [
    {
     "data": {
      "text/plain": [
       "cardholder_lname       cardholder_finit\n",
       "AARON                  B                   250.000000\n",
       "ACREE                  T                   161.858974\n",
       "ADAMS                  C                    45.856957\n",
       "                       K                   118.634265\n",
       "                       S                    94.760000\n",
       "ADE                    D                   134.103036\n",
       "ADKINS                 M                    11.860000\n",
       "ADMIRE                 A                    81.053368\n",
       "ADUDDELL               D                   409.000000\n",
       "AGNELLI                M                   138.391206\n",
       "AKBARAN                B                   400.000000\n",
       "ALEXANDER              D                   153.363750\n",
       "ALFORD                 R                   304.267547\n",
       "ALINGER                D                    86.554399\n",
       "ALL ABOUT TRAVEL       G                   233.773169\n",
       "ALL ABOUT TRAVEL LTD.  G                   203.999057\n",
       "ALLEE-FOREMAN          K                    38.496429\n",
       "ALLEN                  C                   147.297282\n",
       "                       S                   140.413295\n",
       "                       T                    48.770000\n",
       "Name: amount, dtype: float64"
      ]
     },
     "execution_count": 41,
     "metadata": {},
     "output_type": "execute_result"
    }
   ],
   "source": [
    "amount_mean = df_analysis.groupby(['cardholder_lname','cardholder_finit'])['amount'].mean()\n",
    "amount_mean.head(20)"
   ]
  },
  {
   "cell_type": "code",
   "execution_count": 42,
   "metadata": {},
   "outputs": [],
   "source": [
    "amount_mean = pd.DataFrame(amount_mean).reset_index()\n",
    "amount_mean.columns = ['cardholder_lname', 'cardholder_finit', 'amount_mean']"
   ]
  },
  {
   "cell_type": "markdown",
   "metadata": {},
   "source": [
    "Calculated variables gathered into one table."
   ]
  },
  {
   "cell_type": "code",
   "execution_count": 43,
   "metadata": {},
   "outputs": [
    {
     "data": {
      "text/html": [
       "<div>\n",
       "<style scoped>\n",
       "    .dataframe tbody tr th:only-of-type {\n",
       "        vertical-align: middle;\n",
       "    }\n",
       "\n",
       "    .dataframe tbody tr th {\n",
       "        vertical-align: top;\n",
       "    }\n",
       "\n",
       "    .dataframe thead th {\n",
       "        text-align: right;\n",
       "    }\n",
       "</style>\n",
       "<table border=\"1\" class=\"dataframe\">\n",
       "  <thead>\n",
       "    <tr style=\"text-align: right;\">\n",
       "      <th></th>\n",
       "      <th>cardholder_lname</th>\n",
       "      <th>cardholder_finit</th>\n",
       "      <th>sum_amounts</th>\n",
       "      <th>transaction_count</th>\n",
       "      <th>mcc_unique_count</th>\n",
       "      <th>amount_mean</th>\n",
       "    </tr>\n",
       "  </thead>\n",
       "  <tbody>\n",
       "    <tr>\n",
       "      <th>0</th>\n",
       "      <td>AARON</td>\n",
       "      <td>B</td>\n",
       "      <td>500.00</td>\n",
       "      <td>2</td>\n",
       "      <td>1</td>\n",
       "      <td>250.000000</td>\n",
       "    </tr>\n",
       "    <tr>\n",
       "      <th>1</th>\n",
       "      <td>ACREE</td>\n",
       "      <td>T</td>\n",
       "      <td>12625.00</td>\n",
       "      <td>78</td>\n",
       "      <td>13</td>\n",
       "      <td>161.858974</td>\n",
       "    </tr>\n",
       "    <tr>\n",
       "      <th>2</th>\n",
       "      <td>ADAMS</td>\n",
       "      <td>C</td>\n",
       "      <td>1054.71</td>\n",
       "      <td>23</td>\n",
       "      <td>6</td>\n",
       "      <td>45.856957</td>\n",
       "    </tr>\n",
       "    <tr>\n",
       "      <th>3</th>\n",
       "      <td>ADAMS</td>\n",
       "      <td>K</td>\n",
       "      <td>8067.13</td>\n",
       "      <td>68</td>\n",
       "      <td>19</td>\n",
       "      <td>118.634265</td>\n",
       "    </tr>\n",
       "    <tr>\n",
       "      <th>4</th>\n",
       "      <td>ADAMS</td>\n",
       "      <td>S</td>\n",
       "      <td>2937.56</td>\n",
       "      <td>31</td>\n",
       "      <td>8</td>\n",
       "      <td>94.760000</td>\n",
       "    </tr>\n",
       "  </tbody>\n",
       "</table>\n",
       "</div>"
      ],
      "text/plain": [
       "  cardholder_lname cardholder_finit  sum_amounts  transaction_count  \\\n",
       "0            AARON                B       500.00                  2   \n",
       "1            ACREE                T     12625.00                 78   \n",
       "2            ADAMS                C      1054.71                 23   \n",
       "3            ADAMS                K      8067.13                 68   \n",
       "4            ADAMS                S      2937.56                 31   \n",
       "\n",
       "   mcc_unique_count  amount_mean  \n",
       "0                 1   250.000000  \n",
       "1                13   161.858974  \n",
       "2                 6    45.856957  \n",
       "3                19   118.634265  \n",
       "4                 8    94.760000  "
      ]
     },
     "execution_count": 43,
     "metadata": {},
     "output_type": "execute_result"
    }
   ],
   "source": [
    "df_uniq_cust['transaction_count'] = df_transaction_count['transaction_count']\n",
    "df_uniq_cust['mcc_unique_count'] = mcc_unique_count['mcc_unique_count']\n",
    "df_uniq_cust['amount_mean'] = amount_mean['amount_mean']\n",
    "df_uniq_cust.head()"
   ]
  },
  {
   "cell_type": "markdown",
   "metadata": {},
   "source": [
    "df_uniq_cust table is ready for segmentation. Before doing it, it is stored as segmentation table."
   ]
  },
  {
   "cell_type": "code",
   "execution_count": 44,
   "metadata": {},
   "outputs": [],
   "source": [
    "segmentation = df_uniq_cust.copy()"
   ]
  },
  {
   "cell_type": "code",
   "execution_count": 45,
   "metadata": {},
   "outputs": [
    {
     "data": {
      "text/html": [
       "<div>\n",
       "<style scoped>\n",
       "    .dataframe tbody tr th:only-of-type {\n",
       "        vertical-align: middle;\n",
       "    }\n",
       "\n",
       "    .dataframe tbody tr th {\n",
       "        vertical-align: top;\n",
       "    }\n",
       "\n",
       "    .dataframe thead th {\n",
       "        text-align: right;\n",
       "    }\n",
       "</style>\n",
       "<table border=\"1\" class=\"dataframe\">\n",
       "  <thead>\n",
       "    <tr style=\"text-align: right;\">\n",
       "      <th></th>\n",
       "      <th>count</th>\n",
       "      <th>mean</th>\n",
       "      <th>std</th>\n",
       "      <th>min</th>\n",
       "      <th>25%</th>\n",
       "      <th>50%</th>\n",
       "      <th>75%</th>\n",
       "      <th>max</th>\n",
       "    </tr>\n",
       "  </thead>\n",
       "  <tbody>\n",
       "    <tr>\n",
       "      <th>sum_amounts</th>\n",
       "      <td>5176.0</td>\n",
       "      <td>12363.601041</td>\n",
       "      <td>45306.316336</td>\n",
       "      <td>-224.03</td>\n",
       "      <td>1435.765000</td>\n",
       "      <td>4386.295000</td>\n",
       "      <td>11813.122500</td>\n",
       "      <td>1967873.31</td>\n",
       "    </tr>\n",
       "    <tr>\n",
       "      <th>transaction_count</th>\n",
       "      <td>5176.0</td>\n",
       "      <td>76.294049</td>\n",
       "      <td>218.424618</td>\n",
       "      <td>1.00</td>\n",
       "      <td>11.000000</td>\n",
       "      <td>32.000000</td>\n",
       "      <td>83.000000</td>\n",
       "      <td>9118.00</td>\n",
       "    </tr>\n",
       "    <tr>\n",
       "      <th>mcc_unique_count</th>\n",
       "      <td>5176.0</td>\n",
       "      <td>12.296754</td>\n",
       "      <td>10.394872</td>\n",
       "      <td>1.00</td>\n",
       "      <td>5.000000</td>\n",
       "      <td>10.000000</td>\n",
       "      <td>17.000000</td>\n",
       "      <td>93.00</td>\n",
       "    </tr>\n",
       "    <tr>\n",
       "      <th>amount_mean</th>\n",
       "      <td>5176.0</td>\n",
       "      <td>153.330429</td>\n",
       "      <td>84.390927</td>\n",
       "      <td>-214.17</td>\n",
       "      <td>96.843734</td>\n",
       "      <td>141.938242</td>\n",
       "      <td>196.630931</td>\n",
       "      <td>800.40</td>\n",
       "    </tr>\n",
       "  </tbody>\n",
       "</table>\n",
       "</div>"
      ],
      "text/plain": [
       "                    count          mean           std     min          25%  \\\n",
       "sum_amounts        5176.0  12363.601041  45306.316336 -224.03  1435.765000   \n",
       "transaction_count  5176.0     76.294049    218.424618    1.00    11.000000   \n",
       "mcc_unique_count   5176.0     12.296754     10.394872    1.00     5.000000   \n",
       "amount_mean        5176.0    153.330429     84.390927 -214.17    96.843734   \n",
       "\n",
       "                           50%           75%         max  \n",
       "sum_amounts        4386.295000  11813.122500  1967873.31  \n",
       "transaction_count    32.000000     83.000000     9118.00  \n",
       "mcc_unique_count     10.000000     17.000000       93.00  \n",
       "amount_mean         141.938242    196.630931      800.40  "
      ]
     },
     "execution_count": 45,
     "metadata": {},
     "output_type": "execute_result"
    }
   ],
   "source": [
    "segmentation.describe().transpose()"
   ]
  },
  {
   "cell_type": "markdown",
   "metadata": {},
   "source": [
    "It can be seen that standart deviation of transaction_count is so high. Because, K-means algorithm is very sensetive to outlier values, they need to be dropped."
   ]
  },
  {
   "cell_type": "markdown",
   "metadata": {},
   "source": [
    "Firstly customers' transaction count variable column cleaned from its outlier."
   ]
  },
  {
   "cell_type": "code",
   "execution_count": 46,
   "metadata": {},
   "outputs": [],
   "source": [
    "Q1_trans = segmentation.transaction_count.quantile(0.25)\n",
    "Q3_trans = segmentation.transaction_count.quantile(0.75)\n",
    "IQR_trans = Q3_trans - Q1_trans\n",
    "\n",
    "segmentation = segmentation.loc[(segmentation['transaction_count'] > (Q1_trans - 1.5 * IQR_trans) ) & (segmentation['transaction_count'] < (Q3_trans + 1.5 * IQR_trans))]"
   ]
  },
  {
   "cell_type": "markdown",
   "metadata": {},
   "source": [
    "Same calculation is done for count of customers' unique mcc. "
   ]
  },
  {
   "cell_type": "code",
   "execution_count": 47,
   "metadata": {},
   "outputs": [],
   "source": [
    "Q1_MCC = segmentation.mcc_unique_count.quantile(0.25)\n",
    "Q3_MCC = segmentation.mcc_unique_count.quantile(0.75)\n",
    "IQR_MCC = Q3_MCC - Q1_MCC\n",
    "\n",
    "segmentation = segmentation.loc[(segmentation['mcc_unique_count'] > (Q1_MCC - 1.5 * IQR_MCC) ) & (segmentation['mcc_unique_count'] < (Q3_MCC + 1.5 * IQR_MCC))]"
   ]
  },
  {
   "cell_type": "code",
   "execution_count": 48,
   "metadata": {},
   "outputs": [
    {
     "data": {
      "text/html": [
       "<div>\n",
       "<style scoped>\n",
       "    .dataframe tbody tr th:only-of-type {\n",
       "        vertical-align: middle;\n",
       "    }\n",
       "\n",
       "    .dataframe tbody tr th {\n",
       "        vertical-align: top;\n",
       "    }\n",
       "\n",
       "    .dataframe thead th {\n",
       "        text-align: right;\n",
       "    }\n",
       "</style>\n",
       "<table border=\"1\" class=\"dataframe\">\n",
       "  <thead>\n",
       "    <tr style=\"text-align: right;\">\n",
       "      <th></th>\n",
       "      <th>count</th>\n",
       "      <th>mean</th>\n",
       "      <th>std</th>\n",
       "      <th>min</th>\n",
       "      <th>25%</th>\n",
       "      <th>50%</th>\n",
       "      <th>75%</th>\n",
       "      <th>max</th>\n",
       "    </tr>\n",
       "  </thead>\n",
       "  <tbody>\n",
       "    <tr>\n",
       "      <th>sum_amounts</th>\n",
       "      <td>4667.0</td>\n",
       "      <td>6248.269929</td>\n",
       "      <td>7178.696793</td>\n",
       "      <td>-224.03</td>\n",
       "      <td>1240.15000</td>\n",
       "      <td>3621.670</td>\n",
       "      <td>8717.925000</td>\n",
       "      <td>62971.83</td>\n",
       "    </tr>\n",
       "    <tr>\n",
       "      <th>transaction_count</th>\n",
       "      <td>4667.0</td>\n",
       "      <td>42.075637</td>\n",
       "      <td>42.067670</td>\n",
       "      <td>1.00</td>\n",
       "      <td>10.00000</td>\n",
       "      <td>27.000</td>\n",
       "      <td>62.000000</td>\n",
       "      <td>190.00</td>\n",
       "    </tr>\n",
       "    <tr>\n",
       "      <th>mcc_unique_count</th>\n",
       "      <td>4667.0</td>\n",
       "      <td>10.025284</td>\n",
       "      <td>7.016498</td>\n",
       "      <td>1.00</td>\n",
       "      <td>4.00000</td>\n",
       "      <td>9.000</td>\n",
       "      <td>14.000000</td>\n",
       "      <td>31.00</td>\n",
       "    </tr>\n",
       "    <tr>\n",
       "      <th>amount_mean</th>\n",
       "      <td>4667.0</td>\n",
       "      <td>151.662595</td>\n",
       "      <td>86.753046</td>\n",
       "      <td>-214.17</td>\n",
       "      <td>93.50875</td>\n",
       "      <td>138.598</td>\n",
       "      <td>195.904311</td>\n",
       "      <td>800.40</td>\n",
       "    </tr>\n",
       "  </tbody>\n",
       "</table>\n",
       "</div>"
      ],
      "text/plain": [
       "                    count         mean          std     min         25%  \\\n",
       "sum_amounts        4667.0  6248.269929  7178.696793 -224.03  1240.15000   \n",
       "transaction_count  4667.0    42.075637    42.067670    1.00    10.00000   \n",
       "mcc_unique_count   4667.0    10.025284     7.016498    1.00     4.00000   \n",
       "amount_mean        4667.0   151.662595    86.753046 -214.17    93.50875   \n",
       "\n",
       "                        50%          75%       max  \n",
       "sum_amounts        3621.670  8717.925000  62971.83  \n",
       "transaction_count    27.000    62.000000    190.00  \n",
       "mcc_unique_count      9.000    14.000000     31.00  \n",
       "amount_mean         138.598   195.904311    800.40  "
      ]
     },
     "execution_count": 48,
     "metadata": {},
     "output_type": "execute_result"
    }
   ],
   "source": [
    "segmentation.describe().transpose()"
   ]
  },
  {
   "cell_type": "code",
   "execution_count": 49,
   "metadata": {},
   "outputs": [
    {
     "data": {
      "text/plain": [
       "array([[<matplotlib.axes._subplots.AxesSubplot object at 0x000001FAC61170B8>,\n",
       "        <matplotlib.axes._subplots.AxesSubplot object at 0x000001FAC60EFF98>],\n",
       "       [<matplotlib.axes._subplots.AxesSubplot object at 0x000001FAC60D1400>,\n",
       "        <matplotlib.axes._subplots.AxesSubplot object at 0x000001FAC6082CC0>]],\n",
       "      dtype=object)"
      ]
     },
     "execution_count": 49,
     "metadata": {},
     "output_type": "execute_result"
    },
    {
     "data": {
      "image/png": "[encoded data removed]",
      "text/plain": [
       "<Figure size 432x288 with 4 Axes>"
      ]
     },
     "metadata": {},
     "output_type": "display_data"
    }
   ],
   "source": [
    "segmentation.hist()"
   ]
  },
  {
   "cell_type": "markdown",
   "metadata": {},
   "source": [
    "Customers' total trasaction amount still has high standart deviation. However, this variable correlated with others. Therefore, i will drop feature in the following."
   ]
  },
  {
   "cell_type": "code",
   "execution_count": 50,
   "metadata": {},
   "outputs": [
    {
     "data": {
      "text/plain": [
       "<matplotlib.axes._subplots.AxesSubplot at 0x1fac5e87278>"
      ]
     },
     "execution_count": 50,
     "metadata": {},
     "output_type": "execute_result"
    },
    {
     "data": {
      "image/png": "[encoded data removed]",
      "text/plain": [
       "<Figure size 432x288 with 2 Axes>"
      ]
     },
     "metadata": {},
     "output_type": "display_data"
    }
   ],
   "source": [
    "cor = segmentation.corr() #Calculate the correlation of the above variables\n",
    "sns.heatmap(cor, annot=True, square = True) #Plot the correlation as heat map"
   ]
  },
  {
   "cell_type": "code",
   "execution_count": 51,
   "metadata": {},
   "outputs": [
    {
     "name": "stdout",
     "output_type": "stream",
     "text": [
      "<class 'pandas.core.frame.DataFrame'>\n",
      "Int64Index: 4667 entries, 0 to 5175\n",
      "Data columns (total 6 columns):\n",
      "cardholder_lname     4667 non-null object\n",
      "cardholder_finit     4667 non-null object\n",
      "sum_amounts          4667 non-null float64\n",
      "transaction_count    4667 non-null int64\n",
      "mcc_unique_count     4667 non-null int64\n",
      "amount_mean          4667 non-null float64\n",
      "dtypes: float64(2), int64(2), object(2)\n",
      "memory usage: 255.2+ KB\n"
     ]
    }
   ],
   "source": [
    "segmentation.info()"
   ]
  },
  {
   "cell_type": "markdown",
   "metadata": {},
   "source": [
    "sum_amount column dropped from sample."
   ]
  },
  {
   "cell_type": "code",
   "execution_count": 52,
   "metadata": {},
   "outputs": [
    {
     "data": {
      "text/html": [
       "<div>\n",
       "<style scoped>\n",
       "    .dataframe tbody tr th:only-of-type {\n",
       "        vertical-align: middle;\n",
       "    }\n",
       "\n",
       "    .dataframe tbody tr th {\n",
       "        vertical-align: top;\n",
       "    }\n",
       "\n",
       "    .dataframe thead th {\n",
       "        text-align: right;\n",
       "    }\n",
       "</style>\n",
       "<table border=\"1\" class=\"dataframe\">\n",
       "  <thead>\n",
       "    <tr style=\"text-align: right;\">\n",
       "      <th></th>\n",
       "      <th>cardholder_lname</th>\n",
       "      <th>cardholder_finit</th>\n",
       "      <th>mcc_unique_count</th>\n",
       "      <th>amount_mean</th>\n",
       "      <th>transaction_count</th>\n",
       "    </tr>\n",
       "  </thead>\n",
       "  <tbody>\n",
       "    <tr>\n",
       "      <th>0</th>\n",
       "      <td>AARON</td>\n",
       "      <td>B</td>\n",
       "      <td>1</td>\n",
       "      <td>250.000000</td>\n",
       "      <td>2</td>\n",
       "    </tr>\n",
       "    <tr>\n",
       "      <th>1</th>\n",
       "      <td>ACREE</td>\n",
       "      <td>T</td>\n",
       "      <td>13</td>\n",
       "      <td>161.858974</td>\n",
       "      <td>78</td>\n",
       "    </tr>\n",
       "    <tr>\n",
       "      <th>2</th>\n",
       "      <td>ADAMS</td>\n",
       "      <td>C</td>\n",
       "      <td>6</td>\n",
       "      <td>45.856957</td>\n",
       "      <td>23</td>\n",
       "    </tr>\n",
       "    <tr>\n",
       "      <th>3</th>\n",
       "      <td>ADAMS</td>\n",
       "      <td>K</td>\n",
       "      <td>19</td>\n",
       "      <td>118.634265</td>\n",
       "      <td>68</td>\n",
       "    </tr>\n",
       "    <tr>\n",
       "      <th>4</th>\n",
       "      <td>ADAMS</td>\n",
       "      <td>S</td>\n",
       "      <td>8</td>\n",
       "      <td>94.760000</td>\n",
       "      <td>31</td>\n",
       "    </tr>\n",
       "  </tbody>\n",
       "</table>\n",
       "</div>"
      ],
      "text/plain": [
       "  cardholder_lname cardholder_finit  mcc_unique_count  amount_mean  \\\n",
       "0            AARON                B                 1   250.000000   \n",
       "1            ACREE                T                13   161.858974   \n",
       "2            ADAMS                C                 6    45.856957   \n",
       "3            ADAMS                K                19   118.634265   \n",
       "4            ADAMS                S                 8    94.760000   \n",
       "\n",
       "   transaction_count  \n",
       "0                  2  \n",
       "1                 78  \n",
       "2                 23  \n",
       "3                 68  \n",
       "4                 31  "
      ]
     },
     "execution_count": 52,
     "metadata": {},
     "output_type": "execute_result"
    }
   ],
   "source": [
    "segmentation = segmentation[['cardholder_lname', 'cardholder_finit','mcc_unique_count', 'amount_mean', 'transaction_count']]\n",
    "segmentation.iloc[:,0:].head()"
   ]
  },
  {
   "cell_type": "markdown",
   "metadata": {},
   "source": [
    "K-means clustering algorithm very sensetive to standartization. Therefore, variables should be transformed before using algorithm."
   ]
  },
  {
   "cell_type": "code",
   "execution_count": 53,
   "metadata": {},
   "outputs": [],
   "source": [
    "# Create the scalar.\n",
    "scaler_mcc = StandardScaler().fit(segmentation.iloc[:,2:3])\n",
    "scaler_amount_mean = StandardScaler().fit(segmentation.iloc[:,3:4])\n",
    "scaler_trans = StandardScaler().fit(segmentation.iloc[:,4:5])\n",
    "\n",
    "\n",
    "# Standardize the columns.\n",
    "segmentation['std_mcc'] = scaler_mcc.transform(segmentation.iloc[:,2:3])\n",
    "segmentation['std_amount_mean'] = scaler_amount_mean.transform(segmentation.iloc[:,3:4])\n",
    "segmentation['std_trans'] = scaler_trans.transform(segmentation.iloc[:,4:5])"
   ]
  },
  {
   "cell_type": "code",
   "execution_count": 54,
   "metadata": {},
   "outputs": [
    {
     "data": {
      "text/html": [
       "<div>\n",
       "<style scoped>\n",
       "    .dataframe tbody tr th:only-of-type {\n",
       "        vertical-align: middle;\n",
       "    }\n",
       "\n",
       "    .dataframe tbody tr th {\n",
       "        vertical-align: top;\n",
       "    }\n",
       "\n",
       "    .dataframe thead th {\n",
       "        text-align: right;\n",
       "    }\n",
       "</style>\n",
       "<table border=\"1\" class=\"dataframe\">\n",
       "  <thead>\n",
       "    <tr style=\"text-align: right;\">\n",
       "      <th></th>\n",
       "      <th>cardholder_lname</th>\n",
       "      <th>cardholder_finit</th>\n",
       "      <th>mcc_unique_count</th>\n",
       "      <th>amount_mean</th>\n",
       "      <th>transaction_count</th>\n",
       "      <th>std_mcc</th>\n",
       "      <th>std_amount_mean</th>\n",
       "      <th>std_trans</th>\n",
       "    </tr>\n",
       "  </thead>\n",
       "  <tbody>\n",
       "    <tr>\n",
       "      <th>0</th>\n",
       "      <td>AARON</td>\n",
       "      <td>B</td>\n",
       "      <td>1</td>\n",
       "      <td>250.000000</td>\n",
       "      <td>2</td>\n",
       "      <td>-1.286432</td>\n",
       "      <td>1.133654</td>\n",
       "      <td>-0.952749</td>\n",
       "    </tr>\n",
       "    <tr>\n",
       "      <th>1</th>\n",
       "      <td>ACREE</td>\n",
       "      <td>T</td>\n",
       "      <td>13</td>\n",
       "      <td>161.858974</td>\n",
       "      <td>78</td>\n",
       "      <td>0.424006</td>\n",
       "      <td>0.117546</td>\n",
       "      <td>0.854058</td>\n",
       "    </tr>\n",
       "    <tr>\n",
       "      <th>2</th>\n",
       "      <td>ADAMS</td>\n",
       "      <td>C</td>\n",
       "      <td>6</td>\n",
       "      <td>45.856957</td>\n",
       "      <td>23</td>\n",
       "      <td>-0.573750</td>\n",
       "      <td>-1.219749</td>\n",
       "      <td>-0.453500</td>\n",
       "    </tr>\n",
       "    <tr>\n",
       "      <th>3</th>\n",
       "      <td>ADAMS</td>\n",
       "      <td>K</td>\n",
       "      <td>19</td>\n",
       "      <td>118.634265</td>\n",
       "      <td>68</td>\n",
       "      <td>1.279225</td>\n",
       "      <td>-0.380757</td>\n",
       "      <td>0.616320</td>\n",
       "    </tr>\n",
       "    <tr>\n",
       "      <th>4</th>\n",
       "      <td>ADAMS</td>\n",
       "      <td>S</td>\n",
       "      <td>8</td>\n",
       "      <td>94.760000</td>\n",
       "      <td>31</td>\n",
       "      <td>-0.288677</td>\n",
       "      <td>-0.655985</td>\n",
       "      <td>-0.263310</td>\n",
       "    </tr>\n",
       "  </tbody>\n",
       "</table>\n",
       "</div>"
      ],
      "text/plain": [
       "  cardholder_lname cardholder_finit  mcc_unique_count  amount_mean  \\\n",
       "0            AARON                B                 1   250.000000   \n",
       "1            ACREE                T                13   161.858974   \n",
       "2            ADAMS                C                 6    45.856957   \n",
       "3            ADAMS                K                19   118.634265   \n",
       "4            ADAMS                S                 8    94.760000   \n",
       "\n",
       "   transaction_count   std_mcc  std_amount_mean  std_trans  \n",
       "0                  2 -1.286432         1.133654  -0.952749  \n",
       "1                 78  0.424006         0.117546   0.854058  \n",
       "2                 23 -0.573750        -1.219749  -0.453500  \n",
       "3                 68  1.279225        -0.380757   0.616320  \n",
       "4                 31 -0.288677        -0.655985  -0.263310  "
      ]
     },
     "execution_count": 54,
     "metadata": {},
     "output_type": "execute_result"
    }
   ],
   "source": [
    "segmentation.head()"
   ]
  },
  {
   "cell_type": "code",
   "execution_count": 55,
   "metadata": {},
   "outputs": [
    {
     "data": {
      "text/html": [
       "<div>\n",
       "<style scoped>\n",
       "    .dataframe tbody tr th:only-of-type {\n",
       "        vertical-align: middle;\n",
       "    }\n",
       "\n",
       "    .dataframe tbody tr th {\n",
       "        vertical-align: top;\n",
       "    }\n",
       "\n",
       "    .dataframe thead th {\n",
       "        text-align: right;\n",
       "    }\n",
       "</style>\n",
       "<table border=\"1\" class=\"dataframe\">\n",
       "  <thead>\n",
       "    <tr style=\"text-align: right;\">\n",
       "      <th></th>\n",
       "      <th>count</th>\n",
       "      <th>mean</th>\n",
       "      <th>std</th>\n",
       "      <th>min</th>\n",
       "      <th>25%</th>\n",
       "      <th>50%</th>\n",
       "      <th>75%</th>\n",
       "      <th>max</th>\n",
       "    </tr>\n",
       "  </thead>\n",
       "  <tbody>\n",
       "    <tr>\n",
       "      <th>mcc_unique_count</th>\n",
       "      <td>4667.0</td>\n",
       "      <td>1.002528e+01</td>\n",
       "      <td>7.016498</td>\n",
       "      <td>1.000000</td>\n",
       "      <td>4.000000</td>\n",
       "      <td>9.000000</td>\n",
       "      <td>14.000000</td>\n",
       "      <td>31.000000</td>\n",
       "    </tr>\n",
       "    <tr>\n",
       "      <th>amount_mean</th>\n",
       "      <td>4667.0</td>\n",
       "      <td>1.516626e+02</td>\n",
       "      <td>86.753046</td>\n",
       "      <td>-214.170000</td>\n",
       "      <td>93.508750</td>\n",
       "      <td>138.598000</td>\n",
       "      <td>195.904311</td>\n",
       "      <td>800.400000</td>\n",
       "    </tr>\n",
       "    <tr>\n",
       "      <th>transaction_count</th>\n",
       "      <td>4667.0</td>\n",
       "      <td>4.207564e+01</td>\n",
       "      <td>42.067670</td>\n",
       "      <td>1.000000</td>\n",
       "      <td>10.000000</td>\n",
       "      <td>27.000000</td>\n",
       "      <td>62.000000</td>\n",
       "      <td>190.000000</td>\n",
       "    </tr>\n",
       "    <tr>\n",
       "      <th>std_mcc</th>\n",
       "      <td>4667.0</td>\n",
       "      <td>1.158752e-16</td>\n",
       "      <td>1.000107</td>\n",
       "      <td>-1.286432</td>\n",
       "      <td>-0.858823</td>\n",
       "      <td>-0.146140</td>\n",
       "      <td>0.566542</td>\n",
       "      <td>2.989663</td>\n",
       "    </tr>\n",
       "    <tr>\n",
       "      <th>std_amount_mean</th>\n",
       "      <td>4667.0</td>\n",
       "      <td>7.517259e-17</td>\n",
       "      <td>1.000107</td>\n",
       "      <td>-4.217394</td>\n",
       "      <td>-0.670410</td>\n",
       "      <td>-0.150611</td>\n",
       "      <td>0.510028</td>\n",
       "      <td>7.478780</td>\n",
       "    </tr>\n",
       "    <tr>\n",
       "      <th>std_trans</th>\n",
       "      <td>4667.0</td>\n",
       "      <td>-2.731786e-16</td>\n",
       "      <td>1.000107</td>\n",
       "      <td>-0.976523</td>\n",
       "      <td>-0.762559</td>\n",
       "      <td>-0.358405</td>\n",
       "      <td>0.473677</td>\n",
       "      <td>3.516720</td>\n",
       "    </tr>\n",
       "  </tbody>\n",
       "</table>\n",
       "</div>"
      ],
      "text/plain": [
       "                    count          mean        std         min        25%  \\\n",
       "mcc_unique_count   4667.0  1.002528e+01   7.016498    1.000000   4.000000   \n",
       "amount_mean        4667.0  1.516626e+02  86.753046 -214.170000  93.508750   \n",
       "transaction_count  4667.0  4.207564e+01  42.067670    1.000000  10.000000   \n",
       "std_mcc            4667.0  1.158752e-16   1.000107   -1.286432  -0.858823   \n",
       "std_amount_mean    4667.0  7.517259e-17   1.000107   -4.217394  -0.670410   \n",
       "std_trans          4667.0 -2.731786e-16   1.000107   -0.976523  -0.762559   \n",
       "\n",
       "                          50%         75%         max  \n",
       "mcc_unique_count     9.000000   14.000000   31.000000  \n",
       "amount_mean        138.598000  195.904311  800.400000  \n",
       "transaction_count   27.000000   62.000000  190.000000  \n",
       "std_mcc             -0.146140    0.566542    2.989663  \n",
       "std_amount_mean     -0.150611    0.510028    7.478780  \n",
       "std_trans           -0.358405    0.473677    3.516720  "
      ]
     },
     "execution_count": 55,
     "metadata": {},
     "output_type": "execute_result"
    }
   ],
   "source": [
    "segmentation.describe().transpose()"
   ]
  },
  {
   "cell_type": "code",
   "execution_count": 56,
   "metadata": {},
   "outputs": [
    {
     "data": {
      "text/plain": [
       "array([[<matplotlib.axes._subplots.AxesSubplot object at 0x000001FAC5D46518>,\n",
       "        <matplotlib.axes._subplots.AxesSubplot object at 0x000001FAC5CEA160>],\n",
       "       [<matplotlib.axes._subplots.AxesSubplot object at 0x000001FAC5C8BCF8>,\n",
       "        <matplotlib.axes._subplots.AxesSubplot object at 0x000001FAC5C51470>],\n",
       "       [<matplotlib.axes._subplots.AxesSubplot object at 0x000001FAC5C06C50>,\n",
       "        <matplotlib.axes._subplots.AxesSubplot object at 0x000001FAC5C06C18>]],\n",
       "      dtype=object)"
      ]
     },
     "execution_count": 56,
     "metadata": {},
     "output_type": "execute_result"
    },
    {
     "data": {
      "image/png": "[encoded data removed]",
      "text/plain": [
       "<Figure size 432x288 with 6 Axes>"
      ]
     },
     "metadata": {},
     "output_type": "display_data"
    }
   ],
   "source": [
    "segmentation.hist()"
   ]
  },
  {
   "cell_type": "markdown",
   "metadata": {},
   "source": [
    "It can been seen from figure standartized variables have 1 standart deviation. They are suitable usage in k-means algortihm."
   ]
  },
  {
   "cell_type": "markdown",
   "metadata": {},
   "source": [
    "To find out how many clusters should be selected. SSE value is calculated (elbow figured is drawn)"
   ]
  },
  {
   "cell_type": "code",
   "execution_count": 57,
   "metadata": {},
   "outputs": [
    {
     "data": {
      "image/png": "[encoded data removed]",
      "text/plain": [
       "<Figure size 432x288 with 1 Axes>"
      ]
     },
     "metadata": {},
     "output_type": "display_data"
    }
   ],
   "source": [
    "sse = {}\n",
    "for k in range(1, 7):\n",
    "    kmeans = KMeans(n_clusters=k, max_iter=10000).fit(segmentation.iloc[:,5:])\n",
    "    segmentation[\"clusters\"] = kmeans.labels_\n",
    "    #print(data[\"clusters\"])\n",
    "    sse[k] = kmeans.inertia_ #Inertia: Sum of distances of samples to their closest cluster center\n",
    "plt.plot(list(sse.keys()), list(sse.values()))\n",
    "plt.xlabel(\"Number of cluster\")\n",
    "plt.ylabel(\"SSE\")\n",
    "plt.show()"
   ]
  },
  {
   "cell_type": "code",
   "execution_count": 58,
   "metadata": {},
   "outputs": [
    {
     "name": "stdout",
     "output_type": "stream",
     "text": [
      "1 14000.999999999996\n",
      "2 8028.777996577508\n",
      "3 5651.649775791419\n",
      "4 4702.112084962607\n",
      "5 4011.8486811324065\n",
      "6 3355.5434897077043\n"
     ]
    }
   ],
   "source": [
    "for k in range (1, 7):\n",
    "    print(k, sse[k])"
   ]
  },
  {
   "cell_type": "markdown",
   "metadata": {},
   "source": [
    "It makes sense to assing 3 cluster; because, SSE doesnot changes drastically after 3 cluster."
   ]
  },
  {
   "cell_type": "code",
   "execution_count": 63,
   "metadata": {},
   "outputs": [
    {
     "data": {
      "text/plain": [
       "Text(0.5,0.92,'K Means\\nk=3')"
      ]
     },
     "execution_count": 63,
     "metadata": {},
     "output_type": "execute_result"
    },
    {
     "data": {
      "image/png": "[encoded data removed]",
      "text/plain": [
       "<Figure size 720x720 with 1 Axes>"
      ]
     },
     "metadata": {},
     "output_type": "display_data"
    }
   ],
   "source": [
    "#KMeans\n",
    "km = KMeans(n_clusters=3, max_iter=10000, random_state=0).fit(segmentation.iloc[:,5:])\n",
    "km.predict(segmentation.iloc[:,5:])\n",
    "labels = km.labels_\n",
    "segmentation[\"clusters\"] = km.labels_\n",
    "\n",
    "#Plotting\n",
    "fig = plt.figure(1, figsize=(10,10))\n",
    "ax = Axes3D(fig, elev=0)\n",
    "ax.scatter(segmentation['mcc_unique_count'], segmentation['amount_mean'], segmentation['transaction_count'],\n",
    "          c=labels.astype(np.float), edgecolor=\"k\", s=100)\n",
    "ax.set_xlabel(\"mcc_unique_count\")\n",
    "ax.set_ylabel(\"amount_mean\")\n",
    "ax.set_zlabel(\"transaction_count\")\n",
    "plt.title(\"K Means\\nk=3\", fontsize=14)"
   ]
  },
  {
   "cell_type": "code",
   "execution_count": 64,
   "metadata": {},
   "outputs": [
    {
     "data": {
      "text/html": [
       "<div>\n",
       "<style scoped>\n",
       "    .dataframe tbody tr th:only-of-type {\n",
       "        vertical-align: middle;\n",
       "    }\n",
       "\n",
       "    .dataframe tbody tr th {\n",
       "        vertical-align: top;\n",
       "    }\n",
       "\n",
       "    .dataframe thead tr th {\n",
       "        text-align: left;\n",
       "    }\n",
       "\n",
       "    .dataframe thead tr:last-of-type th {\n",
       "        text-align: right;\n",
       "    }\n",
       "</style>\n",
       "<table border=\"1\" class=\"dataframe\">\n",
       "  <thead>\n",
       "    <tr>\n",
       "      <th></th>\n",
       "      <th colspan=\"3\" halign=\"left\">amount_mean</th>\n",
       "      <th colspan=\"3\" halign=\"left\">mcc_unique_count</th>\n",
       "      <th colspan=\"3\" halign=\"left\">transaction_count</th>\n",
       "    </tr>\n",
       "    <tr>\n",
       "      <th></th>\n",
       "      <th>max</th>\n",
       "      <th>mean</th>\n",
       "      <th>min</th>\n",
       "      <th>max</th>\n",
       "      <th>mean</th>\n",
       "      <th>min</th>\n",
       "      <th>max</th>\n",
       "      <th>mean</th>\n",
       "      <th>min</th>\n",
       "    </tr>\n",
       "    <tr>\n",
       "      <th>clusters</th>\n",
       "      <th></th>\n",
       "      <th></th>\n",
       "      <th></th>\n",
       "      <th></th>\n",
       "      <th></th>\n",
       "      <th></th>\n",
       "      <th></th>\n",
       "      <th></th>\n",
       "      <th></th>\n",
       "    </tr>\n",
       "  </thead>\n",
       "  <tbody>\n",
       "    <tr>\n",
       "      <th>0</th>\n",
       "      <td>800.400000</td>\n",
       "      <td>259.733219</td>\n",
       "      <td>172.366667</td>\n",
       "      <td>19</td>\n",
       "      <td>6.452611</td>\n",
       "      <td>1</td>\n",
       "      <td>118</td>\n",
       "      <td>17.517408</td>\n",
       "      <td>1</td>\n",
       "    </tr>\n",
       "    <tr>\n",
       "      <th>1</th>\n",
       "      <td>364.206596</td>\n",
       "      <td>152.593461</td>\n",
       "      <td>15.460326</td>\n",
       "      <td>31</td>\n",
       "      <td>18.271613</td>\n",
       "      <td>5</td>\n",
       "      <td>190</td>\n",
       "      <td>91.716814</td>\n",
       "      <td>22</td>\n",
       "    </tr>\n",
       "    <tr>\n",
       "      <th>2</th>\n",
       "      <td>184.900000</td>\n",
       "      <td>99.392509</td>\n",
       "      <td>-214.170000</td>\n",
       "      <td>16</td>\n",
       "      <td>6.134473</td>\n",
       "      <td>1</td>\n",
       "      <td>122</td>\n",
       "      <td>20.111830</td>\n",
       "      <td>1</td>\n",
       "    </tr>\n",
       "  </tbody>\n",
       "</table>\n",
       "</div>"
      ],
      "text/plain": [
       "         amount_mean                         mcc_unique_count                 \\\n",
       "                 max        mean         min              max       mean min   \n",
       "clusters                                                                       \n",
       "0         800.400000  259.733219  172.366667               19   6.452611   1   \n",
       "1         364.206596  152.593461   15.460326               31  18.271613   5   \n",
       "2         184.900000   99.392509 -214.170000               16   6.134473   1   \n",
       "\n",
       "         transaction_count                 \n",
       "                       max       mean min  \n",
       "clusters                                   \n",
       "0                      118  17.517408   1  \n",
       "1                      190  91.716814  22  \n",
       "2                      122  20.111830   1  "
      ]
     },
     "execution_count": 64,
     "metadata": {},
     "output_type": "execute_result"
    }
   ],
   "source": [
    "pvt = pivot_table(segmentation, values = ['amount_mean', 'transaction_count', 'mcc_unique_count'], index = ['clusters'],\n",
    "                                                                  aggfunc = {'amount_mean' : [np.mean, min, max],\n",
    "                                                                             'transaction_count' : [np.mean, min, max],\n",
    "                                                                             'mcc_unique_count' : [np.mean, min, max]})\n",
    "\n",
    "pvt"
   ]
  },
  {
   "cell_type": "markdown",
   "metadata": {},
   "source": [
    "Segments are mainly means that\n",
    "\n",
    "0 : high transaction amount, medium difference in mcc, medium tranction volume\n",
    "\n",
    "1 : medium transaction amount, high difference in mcc, high tranction volume\n",
    "\n",
    "2 : low transaction amount, low difference in mcc, low tranction volume"
   ]
  },
  {
   "cell_type": "markdown",
   "metadata": {},
   "source": [
    "### Export"
   ]
  },
  {
   "cell_type": "markdown",
   "metadata": {},
   "source": [
    "segmentation table is customer based table which is cleaned from outliers. Also, it includes standartized variables and cluster information."
   ]
  },
  {
   "cell_type": "code",
   "execution_count": 65,
   "metadata": {},
   "outputs": [],
   "source": [
    "segmentation.to_csv('segmentation.csv', index=False, encoding = 'utf-8')"
   ]
  },
  {
   "cell_type": "code",
   "execution_count": 66,
   "metadata": {},
   "outputs": [
    {
     "name": "stdout",
     "output_type": "stream",
     "text": [
      "<class 'pandas.core.frame.DataFrame'>\n",
      "RangeIndex: 4667 entries, 0 to 4666\n",
      "Data columns (total 9 columns):\n",
      "cardholder_lname     4667 non-null object\n",
      "cardholder_finit     4667 non-null object\n",
      "mcc_unique_count     4667 non-null int64\n",
      "amount_mean          4667 non-null float64\n",
      "transaction_count    4667 non-null int64\n",
      "std_mcc              4667 non-null float64\n",
      "std_amount_mean      4667 non-null float64\n",
      "std_trans            4667 non-null float64\n",
      "clusters             4667 non-null int64\n",
      "dtypes: float64(4), int64(3), object(2)\n",
      "memory usage: 328.2+ KB\n"
     ]
    }
   ],
   "source": [
    "segmentation = pd.read_csv ('segmentation.csv')\n",
    "segmentation.info()"
   ]
  },
  {
   "cell_type": "markdown",
   "metadata": {},
   "source": [
    "<a id='predict'></a>\n",
    "# Predictive Modeling\n",
    "\n",
    "Build a supervised model to predict if a cardholder is doing to make a purchase in the\n",
    "next k days. Provide some analysis of your model’s performance. Run the model for k=1,\n",
    "k=5, k=10 ."
   ]
  },
  {
   "cell_type": "markdown",
   "metadata": {},
   "source": [
    "In this section, I would prefer to predict whether customer does a purchase in desired/optional k days. Before coding this function, variable which helps to define target should be extracted from transactional level table. "
   ]
  },
  {
   "cell_type": "markdown",
   "metadata": {},
   "source": [
    "df_analysis table is trannsactional level table whhic is cleaned from outliers and it has newly added 'quarter ' information."
   ]
  },
  {
   "cell_type": "code",
   "execution_count": 67,
   "metadata": {},
   "outputs": [],
   "source": [
    "df_predict = df_analysis.copy()"
   ]
  },
  {
   "cell_type": "code",
   "execution_count": 68,
   "metadata": {},
   "outputs": [
    {
     "data": {
      "text/html": [
       "<div>\n",
       "<style scoped>\n",
       "    .dataframe tbody tr th:only-of-type {\n",
       "        vertical-align: middle;\n",
       "    }\n",
       "\n",
       "    .dataframe tbody tr th {\n",
       "        vertical-align: top;\n",
       "    }\n",
       "\n",
       "    .dataframe thead th {\n",
       "        text-align: right;\n",
       "    }\n",
       "</style>\n",
       "<table border=\"1\" class=\"dataframe\">\n",
       "  <thead>\n",
       "    <tr style=\"text-align: right;\">\n",
       "      <th></th>\n",
       "      <th>year_month</th>\n",
       "      <th>agency_number</th>\n",
       "      <th>agency_name</th>\n",
       "      <th>cardholder_lname</th>\n",
       "      <th>cardholder_finit</th>\n",
       "      <th>description</th>\n",
       "      <th>amount</th>\n",
       "      <th>vendor</th>\n",
       "      <th>transaction_date</th>\n",
       "      <th>posted_date</th>\n",
       "      <th>MCC</th>\n",
       "      <th>new_vendor</th>\n",
       "      <th>quarter</th>\n",
       "    </tr>\n",
       "  </thead>\n",
       "  <tbody>\n",
       "    <tr>\n",
       "      <th>106008</th>\n",
       "      <td>201401</td>\n",
       "      <td>39000</td>\n",
       "      <td>COMPSOURCE OKLAHOMA</td>\n",
       "      <td>AARON</td>\n",
       "      <td>B</td>\n",
       "      <td>GENERAL PURCHASE</td>\n",
       "      <td>235.00</td>\n",
       "      <td>pbd iia intrnlauditors</td>\n",
       "      <td>01/21/2014 12:00:00 AM</td>\n",
       "      <td>01/22/2014 12:00:00 AM</td>\n",
       "      <td>BOOKS, PERIODICALS AND NEWSPAPERS</td>\n",
       "      <td>pbd iia intrnlauditors</td>\n",
       "      <td>Q2</td>\n",
       "    </tr>\n",
       "    <tr>\n",
       "      <th>359374</th>\n",
       "      <td>201405</td>\n",
       "      <td>39000</td>\n",
       "      <td>COMPSOURCE OKLAHOMA</td>\n",
       "      <td>AARON</td>\n",
       "      <td>B</td>\n",
       "      <td>GENERAL PURCHASE</td>\n",
       "      <td>265.00</td>\n",
       "      <td>pbd iia intrnlauditors</td>\n",
       "      <td>05/19/2014 12:00:00 AM</td>\n",
       "      <td>05/20/2014 12:00:00 AM</td>\n",
       "      <td>BOOKS, PERIODICALS AND NEWSPAPERS</td>\n",
       "      <td>pbd iia intrnlauditors</td>\n",
       "      <td>Q3</td>\n",
       "    </tr>\n",
       "    <tr>\n",
       "      <th>212900</th>\n",
       "      <td>201401</td>\n",
       "      <td>77000</td>\n",
       "      <td>UNIV. OF OKLA. HEALTH SCIENCES CENTER</td>\n",
       "      <td>ACREE</td>\n",
       "      <td>T</td>\n",
       "      <td>GENERAL PURCHASE</td>\n",
       "      <td>188.00</td>\n",
       "      <td>j &amp; e supply and fastner</td>\n",
       "      <td>01/24/2014 12:00:00 AM</td>\n",
       "      <td>01/27/2014 12:00:00 AM</td>\n",
       "      <td>CONSTRUCTION MATERIALS NOT ELSEWHERE CLASSIFIED</td>\n",
       "      <td>j &amp; e supply and fastner</td>\n",
       "      <td>Q2</td>\n",
       "    </tr>\n",
       "    <tr>\n",
       "      <th>212332</th>\n",
       "      <td>201401</td>\n",
       "      <td>77000</td>\n",
       "      <td>UNIV. OF OKLA. HEALTH SCIENCES CENTER</td>\n",
       "      <td>ACREE</td>\n",
       "      <td>T</td>\n",
       "      <td>GENERAL PURCHASE</td>\n",
       "      <td>156.13</td>\n",
       "      <td>idn acme inc</td>\n",
       "      <td>01/27/2014 12:00:00 AM</td>\n",
       "      <td>01/29/2014 12:00:00 AM</td>\n",
       "      <td>ELECTRICAL PARTS AND EQUIPMENT</td>\n",
       "      <td>idn acme inc</td>\n",
       "      <td>Q2</td>\n",
       "    </tr>\n",
       "    <tr>\n",
       "      <th>212333</th>\n",
       "      <td>201401</td>\n",
       "      <td>77000</td>\n",
       "      <td>UNIV. OF OKLA. HEALTH SCIENCES CENTER</td>\n",
       "      <td>ACREE</td>\n",
       "      <td>T</td>\n",
       "      <td>GENERAL PURCHASE</td>\n",
       "      <td>104.88</td>\n",
       "      <td>scovil &amp; sides hardware c</td>\n",
       "      <td>01/27/2014 12:00:00 AM</td>\n",
       "      <td>01/29/2014 12:00:00 AM</td>\n",
       "      <td>HARDWARE EQUIPMENT AND SUPPLIES</td>\n",
       "      <td>scovil &amp; sides hardware c</td>\n",
       "      <td>Q2</td>\n",
       "    </tr>\n",
       "  </tbody>\n",
       "</table>\n",
       "</div>"
      ],
      "text/plain": [
       "        year_month  agency_number                            agency_name  \\\n",
       "106008      201401          39000                    COMPSOURCE OKLAHOMA   \n",
       "359374      201405          39000                    COMPSOURCE OKLAHOMA   \n",
       "212900      201401          77000  UNIV. OF OKLA. HEALTH SCIENCES CENTER   \n",
       "212332      201401          77000  UNIV. OF OKLA. HEALTH SCIENCES CENTER   \n",
       "212333      201401          77000  UNIV. OF OKLA. HEALTH SCIENCES CENTER   \n",
       "\n",
       "       cardholder_lname cardholder_finit       description  amount  \\\n",
       "106008            AARON                B  GENERAL PURCHASE  235.00   \n",
       "359374            AARON                B  GENERAL PURCHASE  265.00   \n",
       "212900            ACREE                T  GENERAL PURCHASE  188.00   \n",
       "212332            ACREE                T  GENERAL PURCHASE  156.13   \n",
       "212333            ACREE                T  GENERAL PURCHASE  104.88   \n",
       "\n",
       "                           vendor        transaction_date  \\\n",
       "106008     pbd iia intrnlauditors  01/21/2014 12:00:00 AM   \n",
       "359374     pbd iia intrnlauditors  05/19/2014 12:00:00 AM   \n",
       "212900   j & e supply and fastner  01/24/2014 12:00:00 AM   \n",
       "212332               idn acme inc  01/27/2014 12:00:00 AM   \n",
       "212333  scovil & sides hardware c  01/27/2014 12:00:00 AM   \n",
       "\n",
       "                   posted_date  \\\n",
       "106008  01/22/2014 12:00:00 AM   \n",
       "359374  05/20/2014 12:00:00 AM   \n",
       "212900  01/27/2014 12:00:00 AM   \n",
       "212332  01/29/2014 12:00:00 AM   \n",
       "212333  01/29/2014 12:00:00 AM   \n",
       "\n",
       "                                                    MCC  \\\n",
       "106008                BOOKS, PERIODICALS AND NEWSPAPERS   \n",
       "359374                BOOKS, PERIODICALS AND NEWSPAPERS   \n",
       "212900  CONSTRUCTION MATERIALS NOT ELSEWHERE CLASSIFIED   \n",
       "212332                   ELECTRICAL PARTS AND EQUIPMENT   \n",
       "212333                  HARDWARE EQUIPMENT AND SUPPLIES   \n",
       "\n",
       "                       new_vendor quarter  \n",
       "106008     pbd iia intrnlauditors      Q2  \n",
       "359374     pbd iia intrnlauditors      Q3  \n",
       "212900   j & e supply and fastner      Q2  \n",
       "212332               idn acme inc      Q2  \n",
       "212333  scovil & sides hardware c      Q2  "
      ]
     },
     "execution_count": 68,
     "metadata": {},
     "output_type": "execute_result"
    }
   ],
   "source": [
    "df_predict = df_predict.sort_values(by=['cardholder_lname', 'cardholder_finit', 'transaction_date'])\n",
    "df_predict.head()"
   ]
  },
  {
   "cell_type": "markdown",
   "metadata": {},
   "source": [
    "Next transaction date of each transaction and day difference between transactions are calculated. "
   ]
  },
  {
   "cell_type": "code",
   "execution_count": 69,
   "metadata": {},
   "outputs": [
    {
     "data": {
      "text/html": [
       "<div>\n",
       "<style scoped>\n",
       "    .dataframe tbody tr th:only-of-type {\n",
       "        vertical-align: middle;\n",
       "    }\n",
       "\n",
       "    .dataframe tbody tr th {\n",
       "        vertical-align: top;\n",
       "    }\n",
       "\n",
       "    .dataframe thead th {\n",
       "        text-align: right;\n",
       "    }\n",
       "</style>\n",
       "<table border=\"1\" class=\"dataframe\">\n",
       "  <thead>\n",
       "    <tr style=\"text-align: right;\">\n",
       "      <th></th>\n",
       "      <th>year_month</th>\n",
       "      <th>agency_number</th>\n",
       "      <th>agency_name</th>\n",
       "      <th>cardholder_lname</th>\n",
       "      <th>cardholder_finit</th>\n",
       "      <th>description</th>\n",
       "      <th>amount</th>\n",
       "      <th>vendor</th>\n",
       "      <th>transaction_date</th>\n",
       "      <th>posted_date</th>\n",
       "      <th>MCC</th>\n",
       "      <th>new_vendor</th>\n",
       "      <th>quarter</th>\n",
       "      <th>nexttransdate</th>\n",
       "    </tr>\n",
       "  </thead>\n",
       "  <tbody>\n",
       "    <tr>\n",
       "      <th>106008</th>\n",
       "      <td>201401</td>\n",
       "      <td>39000</td>\n",
       "      <td>COMPSOURCE OKLAHOMA</td>\n",
       "      <td>AARON</td>\n",
       "      <td>B</td>\n",
       "      <td>GENERAL PURCHASE</td>\n",
       "      <td>235.00</td>\n",
       "      <td>pbd iia intrnlauditors</td>\n",
       "      <td>01/21/2014 12:00:00 AM</td>\n",
       "      <td>01/22/2014 12:00:00 AM</td>\n",
       "      <td>BOOKS, PERIODICALS AND NEWSPAPERS</td>\n",
       "      <td>pbd iia intrnlauditors</td>\n",
       "      <td>Q2</td>\n",
       "      <td>05/19/2014 12:00:00 AM</td>\n",
       "    </tr>\n",
       "    <tr>\n",
       "      <th>359374</th>\n",
       "      <td>201405</td>\n",
       "      <td>39000</td>\n",
       "      <td>COMPSOURCE OKLAHOMA</td>\n",
       "      <td>AARON</td>\n",
       "      <td>B</td>\n",
       "      <td>GENERAL PURCHASE</td>\n",
       "      <td>265.00</td>\n",
       "      <td>pbd iia intrnlauditors</td>\n",
       "      <td>05/19/2014 12:00:00 AM</td>\n",
       "      <td>05/20/2014 12:00:00 AM</td>\n",
       "      <td>BOOKS, PERIODICALS AND NEWSPAPERS</td>\n",
       "      <td>pbd iia intrnlauditors</td>\n",
       "      <td>Q3</td>\n",
       "      <td>NaN</td>\n",
       "    </tr>\n",
       "    <tr>\n",
       "      <th>212900</th>\n",
       "      <td>201401</td>\n",
       "      <td>77000</td>\n",
       "      <td>UNIV. OF OKLA. HEALTH SCIENCES CENTER</td>\n",
       "      <td>ACREE</td>\n",
       "      <td>T</td>\n",
       "      <td>GENERAL PURCHASE</td>\n",
       "      <td>188.00</td>\n",
       "      <td>j &amp; e supply and fastner</td>\n",
       "      <td>01/24/2014 12:00:00 AM</td>\n",
       "      <td>01/27/2014 12:00:00 AM</td>\n",
       "      <td>CONSTRUCTION MATERIALS NOT ELSEWHERE CLASSIFIED</td>\n",
       "      <td>j &amp; e supply and fastner</td>\n",
       "      <td>Q2</td>\n",
       "      <td>01/27/2014 12:00:00 AM</td>\n",
       "    </tr>\n",
       "    <tr>\n",
       "      <th>212332</th>\n",
       "      <td>201401</td>\n",
       "      <td>77000</td>\n",
       "      <td>UNIV. OF OKLA. HEALTH SCIENCES CENTER</td>\n",
       "      <td>ACREE</td>\n",
       "      <td>T</td>\n",
       "      <td>GENERAL PURCHASE</td>\n",
       "      <td>156.13</td>\n",
       "      <td>idn acme inc</td>\n",
       "      <td>01/27/2014 12:00:00 AM</td>\n",
       "      <td>01/29/2014 12:00:00 AM</td>\n",
       "      <td>ELECTRICAL PARTS AND EQUIPMENT</td>\n",
       "      <td>idn acme inc</td>\n",
       "      <td>Q2</td>\n",
       "      <td>01/27/2014 12:00:00 AM</td>\n",
       "    </tr>\n",
       "    <tr>\n",
       "      <th>212333</th>\n",
       "      <td>201401</td>\n",
       "      <td>77000</td>\n",
       "      <td>UNIV. OF OKLA. HEALTH SCIENCES CENTER</td>\n",
       "      <td>ACREE</td>\n",
       "      <td>T</td>\n",
       "      <td>GENERAL PURCHASE</td>\n",
       "      <td>104.88</td>\n",
       "      <td>scovil &amp; sides hardware c</td>\n",
       "      <td>01/27/2014 12:00:00 AM</td>\n",
       "      <td>01/29/2014 12:00:00 AM</td>\n",
       "      <td>HARDWARE EQUIPMENT AND SUPPLIES</td>\n",
       "      <td>scovil &amp; sides hardware c</td>\n",
       "      <td>Q2</td>\n",
       "      <td>02/04/2014 12:00:00 AM</td>\n",
       "    </tr>\n",
       "  </tbody>\n",
       "</table>\n",
       "</div>"
      ],
      "text/plain": [
       "        year_month  agency_number                            agency_name  \\\n",
       "106008      201401          39000                    COMPSOURCE OKLAHOMA   \n",
       "359374      201405          39000                    COMPSOURCE OKLAHOMA   \n",
       "212900      201401          77000  UNIV. OF OKLA. HEALTH SCIENCES CENTER   \n",
       "212332      201401          77000  UNIV. OF OKLA. HEALTH SCIENCES CENTER   \n",
       "212333      201401          77000  UNIV. OF OKLA. HEALTH SCIENCES CENTER   \n",
       "\n",
       "       cardholder_lname cardholder_finit       description  amount  \\\n",
       "106008            AARON                B  GENERAL PURCHASE  235.00   \n",
       "359374            AARON                B  GENERAL PURCHASE  265.00   \n",
       "212900            ACREE                T  GENERAL PURCHASE  188.00   \n",
       "212332            ACREE                T  GENERAL PURCHASE  156.13   \n",
       "212333            ACREE                T  GENERAL PURCHASE  104.88   \n",
       "\n",
       "                           vendor        transaction_date  \\\n",
       "106008     pbd iia intrnlauditors  01/21/2014 12:00:00 AM   \n",
       "359374     pbd iia intrnlauditors  05/19/2014 12:00:00 AM   \n",
       "212900   j & e supply and fastner  01/24/2014 12:00:00 AM   \n",
       "212332               idn acme inc  01/27/2014 12:00:00 AM   \n",
       "212333  scovil & sides hardware c  01/27/2014 12:00:00 AM   \n",
       "\n",
       "                   posted_date  \\\n",
       "106008  01/22/2014 12:00:00 AM   \n",
       "359374  05/20/2014 12:00:00 AM   \n",
       "212900  01/27/2014 12:00:00 AM   \n",
       "212332  01/29/2014 12:00:00 AM   \n",
       "212333  01/29/2014 12:00:00 AM   \n",
       "\n",
       "                                                    MCC  \\\n",
       "106008                BOOKS, PERIODICALS AND NEWSPAPERS   \n",
       "359374                BOOKS, PERIODICALS AND NEWSPAPERS   \n",
       "212900  CONSTRUCTION MATERIALS NOT ELSEWHERE CLASSIFIED   \n",
       "212332                   ELECTRICAL PARTS AND EQUIPMENT   \n",
       "212333                  HARDWARE EQUIPMENT AND SUPPLIES   \n",
       "\n",
       "                       new_vendor quarter           nexttransdate  \n",
       "106008     pbd iia intrnlauditors      Q2  05/19/2014 12:00:00 AM  \n",
       "359374     pbd iia intrnlauditors      Q3                     NaN  \n",
       "212900   j & e supply and fastner      Q2  01/27/2014 12:00:00 AM  \n",
       "212332               idn acme inc      Q2  01/27/2014 12:00:00 AM  \n",
       "212333  scovil & sides hardware c      Q2  02/04/2014 12:00:00 AM  "
      ]
     },
     "execution_count": 69,
     "metadata": {},
     "output_type": "execute_result"
    }
   ],
   "source": [
    "df_predict['nexttransdate'] = df_predict.groupby(['cardholder_lname', 'cardholder_finit'])['transaction_date'].shift(-1)\n",
    "df_predict.head()"
   ]
  },
  {
   "cell_type": "code",
   "execution_count": 70,
   "metadata": {},
   "outputs": [
    {
     "data": {
      "text/html": [
       "<div>\n",
       "<style scoped>\n",
       "    .dataframe tbody tr th:only-of-type {\n",
       "        vertical-align: middle;\n",
       "    }\n",
       "\n",
       "    .dataframe tbody tr th {\n",
       "        vertical-align: top;\n",
       "    }\n",
       "\n",
       "    .dataframe thead th {\n",
       "        text-align: right;\n",
       "    }\n",
       "</style>\n",
       "<table border=\"1\" class=\"dataframe\">\n",
       "  <thead>\n",
       "    <tr style=\"text-align: right;\">\n",
       "      <th></th>\n",
       "      <th>year_month</th>\n",
       "      <th>agency_number</th>\n",
       "      <th>agency_name</th>\n",
       "      <th>cardholder_lname</th>\n",
       "      <th>cardholder_finit</th>\n",
       "      <th>description</th>\n",
       "      <th>amount</th>\n",
       "      <th>vendor</th>\n",
       "      <th>transaction_date</th>\n",
       "      <th>posted_date</th>\n",
       "      <th>MCC</th>\n",
       "      <th>new_vendor</th>\n",
       "      <th>quarter</th>\n",
       "      <th>nexttransdate</th>\n",
       "      <th>date_diff</th>\n",
       "    </tr>\n",
       "  </thead>\n",
       "  <tbody>\n",
       "    <tr>\n",
       "      <th>106008</th>\n",
       "      <td>201401</td>\n",
       "      <td>39000</td>\n",
       "      <td>COMPSOURCE OKLAHOMA</td>\n",
       "      <td>AARON</td>\n",
       "      <td>B</td>\n",
       "      <td>GENERAL PURCHASE</td>\n",
       "      <td>235.00</td>\n",
       "      <td>pbd iia intrnlauditors</td>\n",
       "      <td>2014-01-21</td>\n",
       "      <td>01/22/2014 12:00:00 AM</td>\n",
       "      <td>BOOKS, PERIODICALS AND NEWSPAPERS</td>\n",
       "      <td>pbd iia intrnlauditors</td>\n",
       "      <td>Q2</td>\n",
       "      <td>2014-05-19</td>\n",
       "      <td>118 days</td>\n",
       "    </tr>\n",
       "    <tr>\n",
       "      <th>359374</th>\n",
       "      <td>201405</td>\n",
       "      <td>39000</td>\n",
       "      <td>COMPSOURCE OKLAHOMA</td>\n",
       "      <td>AARON</td>\n",
       "      <td>B</td>\n",
       "      <td>GENERAL PURCHASE</td>\n",
       "      <td>265.00</td>\n",
       "      <td>pbd iia intrnlauditors</td>\n",
       "      <td>2014-05-19</td>\n",
       "      <td>05/20/2014 12:00:00 AM</td>\n",
       "      <td>BOOKS, PERIODICALS AND NEWSPAPERS</td>\n",
       "      <td>pbd iia intrnlauditors</td>\n",
       "      <td>Q3</td>\n",
       "      <td>NaT</td>\n",
       "      <td>NaT</td>\n",
       "    </tr>\n",
       "    <tr>\n",
       "      <th>212900</th>\n",
       "      <td>201401</td>\n",
       "      <td>77000</td>\n",
       "      <td>UNIV. OF OKLA. HEALTH SCIENCES CENTER</td>\n",
       "      <td>ACREE</td>\n",
       "      <td>T</td>\n",
       "      <td>GENERAL PURCHASE</td>\n",
       "      <td>188.00</td>\n",
       "      <td>j &amp; e supply and fastner</td>\n",
       "      <td>2014-01-24</td>\n",
       "      <td>01/27/2014 12:00:00 AM</td>\n",
       "      <td>CONSTRUCTION MATERIALS NOT ELSEWHERE CLASSIFIED</td>\n",
       "      <td>j &amp; e supply and fastner</td>\n",
       "      <td>Q2</td>\n",
       "      <td>2014-01-27</td>\n",
       "      <td>3 days</td>\n",
       "    </tr>\n",
       "    <tr>\n",
       "      <th>212332</th>\n",
       "      <td>201401</td>\n",
       "      <td>77000</td>\n",
       "      <td>UNIV. OF OKLA. HEALTH SCIENCES CENTER</td>\n",
       "      <td>ACREE</td>\n",
       "      <td>T</td>\n",
       "      <td>GENERAL PURCHASE</td>\n",
       "      <td>156.13</td>\n",
       "      <td>idn acme inc</td>\n",
       "      <td>2014-01-27</td>\n",
       "      <td>01/29/2014 12:00:00 AM</td>\n",
       "      <td>ELECTRICAL PARTS AND EQUIPMENT</td>\n",
       "      <td>idn acme inc</td>\n",
       "      <td>Q2</td>\n",
       "      <td>2014-01-27</td>\n",
       "      <td>0 days</td>\n",
       "    </tr>\n",
       "    <tr>\n",
       "      <th>212333</th>\n",
       "      <td>201401</td>\n",
       "      <td>77000</td>\n",
       "      <td>UNIV. OF OKLA. HEALTH SCIENCES CENTER</td>\n",
       "      <td>ACREE</td>\n",
       "      <td>T</td>\n",
       "      <td>GENERAL PURCHASE</td>\n",
       "      <td>104.88</td>\n",
       "      <td>scovil &amp; sides hardware c</td>\n",
       "      <td>2014-01-27</td>\n",
       "      <td>01/29/2014 12:00:00 AM</td>\n",
       "      <td>HARDWARE EQUIPMENT AND SUPPLIES</td>\n",
       "      <td>scovil &amp; sides hardware c</td>\n",
       "      <td>Q2</td>\n",
       "      <td>2014-02-04</td>\n",
       "      <td>8 days</td>\n",
       "    </tr>\n",
       "  </tbody>\n",
       "</table>\n",
       "</div>"
      ],
      "text/plain": [
       "        year_month  agency_number                            agency_name  \\\n",
       "106008      201401          39000                    COMPSOURCE OKLAHOMA   \n",
       "359374      201405          39000                    COMPSOURCE OKLAHOMA   \n",
       "212900      201401          77000  UNIV. OF OKLA. HEALTH SCIENCES CENTER   \n",
       "212332      201401          77000  UNIV. OF OKLA. HEALTH SCIENCES CENTER   \n",
       "212333      201401          77000  UNIV. OF OKLA. HEALTH SCIENCES CENTER   \n",
       "\n",
       "       cardholder_lname cardholder_finit       description  amount  \\\n",
       "106008            AARON                B  GENERAL PURCHASE  235.00   \n",
       "359374            AARON                B  GENERAL PURCHASE  265.00   \n",
       "212900            ACREE                T  GENERAL PURCHASE  188.00   \n",
       "212332            ACREE                T  GENERAL PURCHASE  156.13   \n",
       "212333            ACREE                T  GENERAL PURCHASE  104.88   \n",
       "\n",
       "                           vendor transaction_date             posted_date  \\\n",
       "106008     pbd iia intrnlauditors       2014-01-21  01/22/2014 12:00:00 AM   \n",
       "359374     pbd iia intrnlauditors       2014-05-19  05/20/2014 12:00:00 AM   \n",
       "212900   j & e supply and fastner       2014-01-24  01/27/2014 12:00:00 AM   \n",
       "212332               idn acme inc       2014-01-27  01/29/2014 12:00:00 AM   \n",
       "212333  scovil & sides hardware c       2014-01-27  01/29/2014 12:00:00 AM   \n",
       "\n",
       "                                                    MCC  \\\n",
       "106008                BOOKS, PERIODICALS AND NEWSPAPERS   \n",
       "359374                BOOKS, PERIODICALS AND NEWSPAPERS   \n",
       "212900  CONSTRUCTION MATERIALS NOT ELSEWHERE CLASSIFIED   \n",
       "212332                   ELECTRICAL PARTS AND EQUIPMENT   \n",
       "212333                  HARDWARE EQUIPMENT AND SUPPLIES   \n",
       "\n",
       "                       new_vendor quarter nexttransdate date_diff  \n",
       "106008     pbd iia intrnlauditors      Q2    2014-05-19  118 days  \n",
       "359374     pbd iia intrnlauditors      Q3           NaT       NaT  \n",
       "212900   j & e supply and fastner      Q2    2014-01-27    3 days  \n",
       "212332               idn acme inc      Q2    2014-01-27    0 days  \n",
       "212333  scovil & sides hardware c      Q2    2014-02-04    8 days  "
      ]
     },
     "execution_count": 70,
     "metadata": {},
     "output_type": "execute_result"
    }
   ],
   "source": [
    "df_predict['nexttransdate'] = pd.to_datetime(df_predict['nexttransdate'])\n",
    "df_predict['transaction_date'] = pd.to_datetime(df_predict['transaction_date'])\n",
    "df_predict['date_diff'] = df_predict['nexttransdate'] - df_predict['transaction_date']\n",
    "df_predict.head()"
   ]
  },
  {
   "cell_type": "markdown",
   "metadata": {},
   "source": [
    "date_diff feature needs to be converted numeric type."
   ]
  },
  {
   "cell_type": "code",
   "execution_count": 71,
   "metadata": {},
   "outputs": [
    {
     "data": {
      "text/html": [
       "<div>\n",
       "<style scoped>\n",
       "    .dataframe tbody tr th:only-of-type {\n",
       "        vertical-align: middle;\n",
       "    }\n",
       "\n",
       "    .dataframe tbody tr th {\n",
       "        vertical-align: top;\n",
       "    }\n",
       "\n",
       "    .dataframe thead th {\n",
       "        text-align: right;\n",
       "    }\n",
       "</style>\n",
       "<table border=\"1\" class=\"dataframe\">\n",
       "  <thead>\n",
       "    <tr style=\"text-align: right;\">\n",
       "      <th></th>\n",
       "      <th>year_month</th>\n",
       "      <th>agency_number</th>\n",
       "      <th>agency_name</th>\n",
       "      <th>cardholder_lname</th>\n",
       "      <th>cardholder_finit</th>\n",
       "      <th>description</th>\n",
       "      <th>amount</th>\n",
       "      <th>vendor</th>\n",
       "      <th>transaction_date</th>\n",
       "      <th>posted_date</th>\n",
       "      <th>MCC</th>\n",
       "      <th>new_vendor</th>\n",
       "      <th>quarter</th>\n",
       "      <th>nexttransdate</th>\n",
       "      <th>date_diff</th>\n",
       "    </tr>\n",
       "  </thead>\n",
       "  <tbody>\n",
       "    <tr>\n",
       "      <th>106008</th>\n",
       "      <td>201401</td>\n",
       "      <td>39000</td>\n",
       "      <td>COMPSOURCE OKLAHOMA</td>\n",
       "      <td>AARON</td>\n",
       "      <td>B</td>\n",
       "      <td>GENERAL PURCHASE</td>\n",
       "      <td>235.00</td>\n",
       "      <td>pbd iia intrnlauditors</td>\n",
       "      <td>2014-01-21</td>\n",
       "      <td>01/22/2014 12:00:00 AM</td>\n",
       "      <td>BOOKS, PERIODICALS AND NEWSPAPERS</td>\n",
       "      <td>pbd iia intrnlauditors</td>\n",
       "      <td>Q2</td>\n",
       "      <td>2014-05-19</td>\n",
       "      <td>118.0</td>\n",
       "    </tr>\n",
       "    <tr>\n",
       "      <th>359374</th>\n",
       "      <td>201405</td>\n",
       "      <td>39000</td>\n",
       "      <td>COMPSOURCE OKLAHOMA</td>\n",
       "      <td>AARON</td>\n",
       "      <td>B</td>\n",
       "      <td>GENERAL PURCHASE</td>\n",
       "      <td>265.00</td>\n",
       "      <td>pbd iia intrnlauditors</td>\n",
       "      <td>2014-05-19</td>\n",
       "      <td>05/20/2014 12:00:00 AM</td>\n",
       "      <td>BOOKS, PERIODICALS AND NEWSPAPERS</td>\n",
       "      <td>pbd iia intrnlauditors</td>\n",
       "      <td>Q3</td>\n",
       "      <td>NaT</td>\n",
       "      <td>NaN</td>\n",
       "    </tr>\n",
       "    <tr>\n",
       "      <th>212900</th>\n",
       "      <td>201401</td>\n",
       "      <td>77000</td>\n",
       "      <td>UNIV. OF OKLA. HEALTH SCIENCES CENTER</td>\n",
       "      <td>ACREE</td>\n",
       "      <td>T</td>\n",
       "      <td>GENERAL PURCHASE</td>\n",
       "      <td>188.00</td>\n",
       "      <td>j &amp; e supply and fastner</td>\n",
       "      <td>2014-01-24</td>\n",
       "      <td>01/27/2014 12:00:00 AM</td>\n",
       "      <td>CONSTRUCTION MATERIALS NOT ELSEWHERE CLASSIFIED</td>\n",
       "      <td>j &amp; e supply and fastner</td>\n",
       "      <td>Q2</td>\n",
       "      <td>2014-01-27</td>\n",
       "      <td>3.0</td>\n",
       "    </tr>\n",
       "    <tr>\n",
       "      <th>212332</th>\n",
       "      <td>201401</td>\n",
       "      <td>77000</td>\n",
       "      <td>UNIV. OF OKLA. HEALTH SCIENCES CENTER</td>\n",
       "      <td>ACREE</td>\n",
       "      <td>T</td>\n",
       "      <td>GENERAL PURCHASE</td>\n",
       "      <td>156.13</td>\n",
       "      <td>idn acme inc</td>\n",
       "      <td>2014-01-27</td>\n",
       "      <td>01/29/2014 12:00:00 AM</td>\n",
       "      <td>ELECTRICAL PARTS AND EQUIPMENT</td>\n",
       "      <td>idn acme inc</td>\n",
       "      <td>Q2</td>\n",
       "      <td>2014-01-27</td>\n",
       "      <td>0.0</td>\n",
       "    </tr>\n",
       "    <tr>\n",
       "      <th>212333</th>\n",
       "      <td>201401</td>\n",
       "      <td>77000</td>\n",
       "      <td>UNIV. OF OKLA. HEALTH SCIENCES CENTER</td>\n",
       "      <td>ACREE</td>\n",
       "      <td>T</td>\n",
       "      <td>GENERAL PURCHASE</td>\n",
       "      <td>104.88</td>\n",
       "      <td>scovil &amp; sides hardware c</td>\n",
       "      <td>2014-01-27</td>\n",
       "      <td>01/29/2014 12:00:00 AM</td>\n",
       "      <td>HARDWARE EQUIPMENT AND SUPPLIES</td>\n",
       "      <td>scovil &amp; sides hardware c</td>\n",
       "      <td>Q2</td>\n",
       "      <td>2014-02-04</td>\n",
       "      <td>8.0</td>\n",
       "    </tr>\n",
       "  </tbody>\n",
       "</table>\n",
       "</div>"
      ],
      "text/plain": [
       "        year_month  agency_number                            agency_name  \\\n",
       "106008      201401          39000                    COMPSOURCE OKLAHOMA   \n",
       "359374      201405          39000                    COMPSOURCE OKLAHOMA   \n",
       "212900      201401          77000  UNIV. OF OKLA. HEALTH SCIENCES CENTER   \n",
       "212332      201401          77000  UNIV. OF OKLA. HEALTH SCIENCES CENTER   \n",
       "212333      201401          77000  UNIV. OF OKLA. HEALTH SCIENCES CENTER   \n",
       "\n",
       "       cardholder_lname cardholder_finit       description  amount  \\\n",
       "106008            AARON                B  GENERAL PURCHASE  235.00   \n",
       "359374            AARON                B  GENERAL PURCHASE  265.00   \n",
       "212900            ACREE                T  GENERAL PURCHASE  188.00   \n",
       "212332            ACREE                T  GENERAL PURCHASE  156.13   \n",
       "212333            ACREE                T  GENERAL PURCHASE  104.88   \n",
       "\n",
       "                           vendor transaction_date             posted_date  \\\n",
       "106008     pbd iia intrnlauditors       2014-01-21  01/22/2014 12:00:00 AM   \n",
       "359374     pbd iia intrnlauditors       2014-05-19  05/20/2014 12:00:00 AM   \n",
       "212900   j & e supply and fastner       2014-01-24  01/27/2014 12:00:00 AM   \n",
       "212332               idn acme inc       2014-01-27  01/29/2014 12:00:00 AM   \n",
       "212333  scovil & sides hardware c       2014-01-27  01/29/2014 12:00:00 AM   \n",
       "\n",
       "                                                    MCC  \\\n",
       "106008                BOOKS, PERIODICALS AND NEWSPAPERS   \n",
       "359374                BOOKS, PERIODICALS AND NEWSPAPERS   \n",
       "212900  CONSTRUCTION MATERIALS NOT ELSEWHERE CLASSIFIED   \n",
       "212332                   ELECTRICAL PARTS AND EQUIPMENT   \n",
       "212333                  HARDWARE EQUIPMENT AND SUPPLIES   \n",
       "\n",
       "                       new_vendor quarter nexttransdate  date_diff  \n",
       "106008     pbd iia intrnlauditors      Q2    2014-05-19      118.0  \n",
       "359374     pbd iia intrnlauditors      Q3           NaT        NaN  \n",
       "212900   j & e supply and fastner      Q2    2014-01-27        3.0  \n",
       "212332               idn acme inc      Q2    2014-01-27        0.0  \n",
       "212333  scovil & sides hardware c      Q2    2014-02-04        8.0  "
      ]
     },
     "execution_count": 71,
     "metadata": {},
     "output_type": "execute_result"
    }
   ],
   "source": [
    "df_predict['date_diff'] = df_predict['date_diff'] / np.timedelta64(1, 'D')\n",
    "df_predict.head()"
   ]
  },
  {
   "cell_type": "markdown",
   "metadata": {},
   "source": [
    "If the date_diff value is null then 9999 assigns. Because, there is no transaction after spesified transaction. "
   ]
  },
  {
   "cell_type": "code",
   "execution_count": 72,
   "metadata": {},
   "outputs": [],
   "source": [
    "df_predict.loc[df_predict['date_diff'].isnull() == True, 'date_diff'] = 9999"
   ]
  },
  {
   "cell_type": "markdown",
   "metadata": {},
   "source": [
    "Checked"
   ]
  },
  {
   "cell_type": "code",
   "execution_count": 73,
   "metadata": {},
   "outputs": [
    {
     "data": {
      "text/html": [
       "<div>\n",
       "<style scoped>\n",
       "    .dataframe tbody tr th:only-of-type {\n",
       "        vertical-align: middle;\n",
       "    }\n",
       "\n",
       "    .dataframe tbody tr th {\n",
       "        vertical-align: top;\n",
       "    }\n",
       "\n",
       "    .dataframe thead th {\n",
       "        text-align: right;\n",
       "    }\n",
       "</style>\n",
       "<table border=\"1\" class=\"dataframe\">\n",
       "  <thead>\n",
       "    <tr style=\"text-align: right;\">\n",
       "      <th></th>\n",
       "      <th>year_month</th>\n",
       "      <th>agency_number</th>\n",
       "      <th>agency_name</th>\n",
       "      <th>cardholder_lname</th>\n",
       "      <th>cardholder_finit</th>\n",
       "      <th>description</th>\n",
       "      <th>amount</th>\n",
       "      <th>vendor</th>\n",
       "      <th>transaction_date</th>\n",
       "      <th>posted_date</th>\n",
       "      <th>MCC</th>\n",
       "      <th>new_vendor</th>\n",
       "      <th>quarter</th>\n",
       "      <th>nexttransdate</th>\n",
       "      <th>date_diff</th>\n",
       "    </tr>\n",
       "  </thead>\n",
       "  <tbody>\n",
       "    <tr>\n",
       "      <th>359374</th>\n",
       "      <td>201405</td>\n",
       "      <td>39000</td>\n",
       "      <td>COMPSOURCE OKLAHOMA</td>\n",
       "      <td>AARON</td>\n",
       "      <td>B</td>\n",
       "      <td>GENERAL PURCHASE</td>\n",
       "      <td>265.00</td>\n",
       "      <td>pbd iia intrnlauditors</td>\n",
       "      <td>2014-05-19</td>\n",
       "      <td>05/20/2014 12:00:00 AM</td>\n",
       "      <td>BOOKS, PERIODICALS AND NEWSPAPERS</td>\n",
       "      <td>pbd iia intrnlauditors</td>\n",
       "      <td>Q3</td>\n",
       "      <td>NaT</td>\n",
       "      <td>9999.0</td>\n",
       "    </tr>\n",
       "    <tr>\n",
       "      <th>209549</th>\n",
       "      <td>201312</td>\n",
       "      <td>77000</td>\n",
       "      <td>UNIV. OF OKLA. HEALTH SCIENCES CENTER</td>\n",
       "      <td>ACREE</td>\n",
       "      <td>T</td>\n",
       "      <td>GENERAL PURCHASE</td>\n",
       "      <td>11.20</td>\n",
       "      <td>idn acme inc</td>\n",
       "      <td>2013-12-16</td>\n",
       "      <td>12/18/2013 12:00:00 AM</td>\n",
       "      <td>ELECTRICAL PARTS AND EQUIPMENT</td>\n",
       "      <td>idn acme inc</td>\n",
       "      <td>Q2</td>\n",
       "      <td>NaT</td>\n",
       "      <td>9999.0</td>\n",
       "    </tr>\n",
       "    <tr>\n",
       "      <th>168827</th>\n",
       "      <td>201311</td>\n",
       "      <td>76000</td>\n",
       "      <td>UNIVERSITY OF OKLAHOMA</td>\n",
       "      <td>ADAMS</td>\n",
       "      <td>C</td>\n",
       "      <td>GENERAL PURCHASE</td>\n",
       "      <td>440.00</td>\n",
       "      <td>shoptrn twoscompany</td>\n",
       "      <td>2013-11-19</td>\n",
       "      <td>11/21/2013 12:00:00 AM</td>\n",
       "      <td>DIRCT MARKETING/DIRCT MARKETERS--NOT ELSEWHERE...</td>\n",
       "      <td>shoptrn twoscompany</td>\n",
       "      <td>Q2</td>\n",
       "      <td>NaT</td>\n",
       "      <td>9999.0</td>\n",
       "    </tr>\n",
       "    <tr>\n",
       "      <th>177396</th>\n",
       "      <td>201312</td>\n",
       "      <td>76000</td>\n",
       "      <td>UNIVERSITY OF OKLAHOMA</td>\n",
       "      <td>ADAMS</td>\n",
       "      <td>K</td>\n",
       "      <td>GENERAL PURCHASE</td>\n",
       "      <td>9.00</td>\n",
       "      <td>walmart.com</td>\n",
       "      <td>2013-12-19</td>\n",
       "      <td>12/20/2013 12:00:00 AM</td>\n",
       "      <td>DISCOUNT STORES</td>\n",
       "      <td>wallmart</td>\n",
       "      <td>Q2</td>\n",
       "      <td>NaT</td>\n",
       "      <td>9999.0</td>\n",
       "    </tr>\n",
       "    <tr>\n",
       "      <th>108991</th>\n",
       "      <td>201311</td>\n",
       "      <td>42000</td>\n",
       "      <td>LANGSTON UNIVERSITY</td>\n",
       "      <td>ADAMS</td>\n",
       "      <td>S</td>\n",
       "      <td>GENERAL PURCHASE</td>\n",
       "      <td>122.37</td>\n",
       "      <td>mcdonald's f</td>\n",
       "      <td>2013-11-09</td>\n",
       "      <td>11/11/2013 12:00:00 AM</td>\n",
       "      <td>FAST FOOD RESTAURANTS</td>\n",
       "      <td>mcdonald's f</td>\n",
       "      <td>Q2</td>\n",
       "      <td>NaT</td>\n",
       "      <td>9999.0</td>\n",
       "    </tr>\n",
       "  </tbody>\n",
       "</table>\n",
       "</div>"
      ],
      "text/plain": [
       "        year_month  agency_number                            agency_name  \\\n",
       "359374      201405          39000                    COMPSOURCE OKLAHOMA   \n",
       "209549      201312          77000  UNIV. OF OKLA. HEALTH SCIENCES CENTER   \n",
       "168827      201311          76000                 UNIVERSITY OF OKLAHOMA   \n",
       "177396      201312          76000                 UNIVERSITY OF OKLAHOMA   \n",
       "108991      201311          42000                    LANGSTON UNIVERSITY   \n",
       "\n",
       "       cardholder_lname cardholder_finit       description  amount  \\\n",
       "359374            AARON                B  GENERAL PURCHASE  265.00   \n",
       "209549            ACREE                T  GENERAL PURCHASE   11.20   \n",
       "168827            ADAMS                C  GENERAL PURCHASE  440.00   \n",
       "177396            ADAMS                K  GENERAL PURCHASE    9.00   \n",
       "108991            ADAMS                S  GENERAL PURCHASE  122.37   \n",
       "\n",
       "                        vendor transaction_date             posted_date  \\\n",
       "359374  pbd iia intrnlauditors       2014-05-19  05/20/2014 12:00:00 AM   \n",
       "209549            idn acme inc       2013-12-16  12/18/2013 12:00:00 AM   \n",
       "168827     shoptrn twoscompany       2013-11-19  11/21/2013 12:00:00 AM   \n",
       "177396            walmart.com        2013-12-19  12/20/2013 12:00:00 AM   \n",
       "108991            mcdonald's f       2013-11-09  11/11/2013 12:00:00 AM   \n",
       "\n",
       "                                                      MCC  \\\n",
       "359374                  BOOKS, PERIODICALS AND NEWSPAPERS   \n",
       "209549                     ELECTRICAL PARTS AND EQUIPMENT   \n",
       "168827  DIRCT MARKETING/DIRCT MARKETERS--NOT ELSEWHERE...   \n",
       "177396                                    DISCOUNT STORES   \n",
       "108991                              FAST FOOD RESTAURANTS   \n",
       "\n",
       "                    new_vendor quarter nexttransdate  date_diff  \n",
       "359374  pbd iia intrnlauditors      Q3           NaT     9999.0  \n",
       "209549            idn acme inc      Q2           NaT     9999.0  \n",
       "168827     shoptrn twoscompany      Q2           NaT     9999.0  \n",
       "177396                wallmart      Q2           NaT     9999.0  \n",
       "108991            mcdonald's f      Q2           NaT     9999.0  "
      ]
     },
     "execution_count": 73,
     "metadata": {},
     "output_type": "execute_result"
    }
   ],
   "source": [
    "df_predict[df_predict['date_diff'] == 9999].head()"
   ]
  },
  {
   "cell_type": "markdown",
   "metadata": {},
   "source": [
    "### Export"
   ]
  },
  {
   "cell_type": "code",
   "execution_count": 74,
   "metadata": {},
   "outputs": [],
   "source": [
    "df_predict.to_csv('df_predict.csv', index=False, encoding = 'utf-8')"
   ]
  },
  {
   "cell_type": "code",
   "execution_count": 75,
   "metadata": {},
   "outputs": [],
   "source": [
    "df_predict = pd.read_csv(\"df_predict.csv\")"
   ]
  },
  {
   "cell_type": "markdown",
   "metadata": {},
   "source": [
    "Following code does following calculations:\n",
    "\n",
    "* Takes input from user\n",
    "* Turns it into integer\n",
    "* Creates target column and assign 0 firstly in the transaction table\n",
    "* Creates target for defined k day\n",
    "* Creates customer level table from transaction table while taking maximum value of target\n",
    "* Joined with segmentation table; beacuse, it is cleaned from outliers and it have created variables that can be found from previous studies.\n",
    "* Feature and target tables created (X, y)\n",
    "* Splitted into train- test datasets (70,30)\n",
    "* Decision tree algorithm trained; beacuse, there is no need to correlation elimination or standatization. (maximum depth 3 and minimum sample leaf is decided as 60)\n",
    "* Predicts test dataset to measure performance\n",
    "* Model performance measures are calculated. (Accuracy, sensitivity, Specificity)\n",
    "* Decision tree graph is shown"
   ]
  },
  {
   "cell_type": "code",
   "execution_count": 76,
   "metadata": {},
   "outputs": [],
   "source": [
    "def auto_modeler():\n",
    "    print(' This function returns the decision tree and its performance.' ,'\\n',\n",
    "          'Decision tree predicts whether customer does purchase in the desired/optional k day')\n",
    "    k = input(\"Please enter desired transaction day(k): \")\n",
    "    k = pd.to_numeric(k)\n",
    "    df_predict['target'] = 0\n",
    "    df_predict.loc[df_predict['date_diff'] <= k, 'target'] = 1\n",
    "    df_target_uniq = df_predict.groupby(['cardholder_lname','cardholder_finit'])['target'].max()\n",
    "    df_targetk = pd.DataFrame(df_target_uniq).reset_index()\n",
    "    df_targetk.columns = ['cardholder_lname', 'cardholder_finit', 'target']\n",
    "    df_merge = pd.merge(left=segmentation, right= df_targetk, left_on=['cardholder_lname', 'cardholder_finit'],\n",
    "                       right_on=['cardholder_lname', 'cardholder_finit'], how='left')\n",
    "\n",
    "    #split dataset in features and target variable\n",
    "    feature_cols = ['mcc_unique_count', 'amount_mean', 'transaction_count', 'std_mcc','std_amount_mean',\n",
    "                    'std_trans','clusters']\n",
    "    X = df_merge[feature_cols] # Features\n",
    "    y = df_merge['target'] # Target variable\n",
    "    X_train, X_test, y_train, y_test = train_test_split(X, y, test_size=0.3, random_state=1) # 70% training and 30% test\n",
    "\n",
    "    # Create Decision Tree classifer object\n",
    "    clf = DecisionTreeClassifier(max_depth=3, min_samples_leaf=60)\n",
    "\n",
    "    # Train Decision Tree Classifer\n",
    "    clf = clf.fit(X_train,y_train)\n",
    "\n",
    "    #Predict the response for test dataset\n",
    "    y_pred = clf.predict(X_test)\n",
    "    dot_data = StringIO()\n",
    "    export_graphviz(clf, out_file=dot_data,  \n",
    "                    filled=True, rounded=True,\n",
    "                    special_characters=True,feature_names = feature_cols,class_names=['0','1'])\n",
    "    graph = pydotplus.graph_from_dot_data(dot_data.getvalue())  \n",
    "    graph.write_png('dec_treek.png')\n",
    "    Image(graph.create_png())\n",
    "\n",
    "    #Confusion Matrix\n",
    "    cm1 = confusion_matrix(y_test,y_pred)\n",
    "    total1=sum(sum(cm1))\n",
    "    accuracy1=(cm1[0,0]+cm1[1,1])/total1\n",
    "    \n",
    "\n",
    "    sensitivity1 = cm1[0,0]/(cm1[0,0]+cm1[0,1])\n",
    "    \n",
    "\n",
    "    specificity1 = cm1[1,1]/(cm1[1,0]+cm1[1,1])\n",
    "    print( ' Accuracy : ', accuracy1 ,'\\n','Sensitivity : ',sensitivity1,'\\n','Specificity : ',specificity1 ,'\\n')\n",
    "    return Image(graph.create_png()) \n",
    "\n",
    "\n"
   ]
  },
  {
   "cell_type": "markdown",
   "metadata": {},
   "source": [
    "## Decision tree predicts whether customer does purchase in the desired/optional 1 day"
   ]
  },
  {
   "cell_type": "code",
   "execution_count": 77,
   "metadata": {},
   "outputs": [
    {
     "name": "stdout",
     "output_type": "stream",
     "text": [
      " This function returns the decision tree and its performance. \n",
      " Decision tree predicts whether customer does purchase in the desired/optional k day\n",
      "Please enter desired transaction day(k): 1\n",
      " Accuracy :  0.9550321199143469 \n",
      " Sensitivity :  0.6612903225806451 \n",
      " Specificity :  0.9835552075176194 \n",
      "\n"
     ]
    },
    {
     "data": {
      "image/png": "[encoded data removed]",
      "text/plain": [
       "<IPython.core.display.Image object>"
      ]
     },
     "execution_count": 77,
     "metadata": {},
     "output_type": "execute_result"
    }
   ],
   "source": [
    "auto_modeler()"
   ]
  },
  {
   "cell_type": "markdown",
   "metadata": {},
   "source": [
    "## Decision tree predicts whether customer does purchase in the desired/optional 5 days"
   ]
  },
  {
   "cell_type": "code",
   "execution_count": 78,
   "metadata": {},
   "outputs": [
    {
     "name": "stdout",
     "output_type": "stream",
     "text": [
      " This function returns the decision tree and its performance. \n",
      " Decision tree predicts whether customer does purchase in the desired/optional k day\n",
      "Please enter desired transaction day(k): 5\n",
      " Accuracy :  0.9657387580299786 \n",
      " Sensitivity :  0.7722772277227723 \n",
      " Specificity :  0.9807692307692307 \n",
      "\n"
     ]
    },
    {
     "data": {
      "image/png": "[encoded data removed]",
      "text/plain": [
       "<IPython.core.display.Image object>"
      ]
     },
     "execution_count": 78,
     "metadata": {},
     "output_type": "execute_result"
    }
   ],
   "source": [
    "auto_modeler()"
   ]
  },
  {
   "cell_type": "markdown",
   "metadata": {},
   "source": [
    "## Decision tree predicts whether customer does purchase in the desired/optional 10 days"
   ]
  },
  {
   "cell_type": "code",
   "execution_count": 80,
   "metadata": {},
   "outputs": [
    {
     "name": "stdout",
     "output_type": "stream",
     "text": [
      " This function returns the decision tree and its performance. \n",
      " Decision tree predicts whether customer does purchase in the desired/optional k day\n",
      "Please enter desired transaction day(k): 10\n",
      " Accuracy :  0.9828693790149893 \n",
      " Sensitivity :  0.7176470588235294 \n",
      " Specificity :  1.0 \n",
      "\n"
     ]
    },
    {
     "data": {
      "image/png": "[encoded data removed]",
      "text/plain": [
       "<IPython.core.display.Image object>"
      ]
     },
     "execution_count": 80,
     "metadata": {},
     "output_type": "execute_result"
    }
   ],
   "source": [
    "auto_modeler()"
   ]
  },
  {
   "cell_type": "code",
   "execution_count": null,
   "metadata": {},
   "outputs": [],
   "source": []
  }
 ],
 "metadata": {
  "kernelspec": {
   "display_name": "Python 3",
   "language": "python",
   "name": "python3"
  },
  "language_info": {
   "codemirror_mode": {
    "name": "ipython",
    "version": 3
   },
   "file_extension": ".py",
   "mimetype": "text/x-python",
   "name": "python",
   "nbconvert_exporter": "python",
   "pygments_lexer": "ipython3",
   "version": "3.6.5"
  }
 },
 "nbformat": 4,
 "nbformat_minor": 2
}
